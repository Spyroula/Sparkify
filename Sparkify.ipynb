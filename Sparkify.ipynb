{
 "cells": [
  {
   "cell_type": "markdown",
   "source": [
    "# Sparkify Project \n",
    "\n",
    "## Table of Contents\n",
    "1. [Overview](#overview)\n",
    "2. [Import required packages](#packages)\n",
    "3. [Workflow](#workflow)\n",
    "    1. [Load and Clean Dataset](#preprocess)\n",
    "    2. [Exploratory Data Analysis](#eda)\n",
    "        1. [Convert time](#time_convert)\n",
    "        2. [Define churn](#churn)\n",
    "        3. [Explore Data](#data)\n",
    "4. [Feature Engineer](#feature_engineer)\n",
    "5. [Modelling](#modelling)\n",
    "    1. [Baseline](#baseline)\n",
    "    2. [Logistic Regression](#logistic)\n",
    "    3. [Gradient Boosted Trees](#gbt)\n",
    "    4. [Support Vector Machine](#svm)\n",
    "    5. [Random Forest](#rf)\n",
    "    6. [Best model](#best_model)\n",
    "6. [Conclusion](#conclusion)"
   ],
   "metadata": {}
  },
  {
   "cell_type": "markdown",
   "source": [
    "# Overview <a id='overview'></a>"
   ],
   "metadata": {}
  },
  {
   "cell_type": "markdown",
   "source": [
    "Sparkify is a music streaming service like Pandora and Spotify.\n",
    "\n",
    "The dataset provided includes the user log of the service, user's demographic info, user activities, timestamps and etc. \n",
    "\n",
    "In this project, we try to analyze the log of the users and build a ML model capable of identifing the customers who are highly likely to cancel their account and stop using our service. The outcome of the model will help us send those users marketing offers in order to prevent them from churning. \n",
    "\n",
    "The main problem of this project is to predict customer churn in advance and I will try to solve it by  using Spark (PySpark) and the Random Forest model.\n",
    "\n",
    "F1 score will be our ecaluation metric of the model performance as it's crucial nopt to miss a great ammount of users who are likely to quit the srvices while we don't want to waste resources on users who are not likely to cancell their subscription in the music service. In simple words, we need both precision and recall to evaluate our model.\n",
    "We performed EDA to investigate features and explore data, and train multiple machine learning models before we end up with the optimal one.\n",
    "\n",
    "**Our final and optimal model reported a F1 score of 76%, which is 16% higher than sending offers to all the users. An article in Medium about this project is also posted here.**\n"
   ],
   "metadata": {}
  },
  {
   "cell_type": "markdown",
   "source": [
    "# Import required packages <a id='packages'></a>"
   ],
   "metadata": {}
  },
  {
   "cell_type": "code",
   "execution_count": 2,
   "source": [
    "# Import libraries\n",
    "import pandas as pd\n",
    "import numpy as np\n",
    "import matplotlib.pyplot as plt\n",
    "import seaborn as sns\n",
    "import datetime\n",
    "from time import time\n",
    "\n",
    "from pyspark.sql.functions import avg, col, concat, desc, explode, lit, min, max, split, udf\n",
    "from pyspark.sql.functions import sum as Fsum\n",
    "from pyspark.sql.types import IntegerType\n",
    "from pyspark.sql import Window\n",
    "from pyspark.sql import SparkSession\n",
    "\n",
    "from pyspark.ml import Pipeline\n",
    "from pyspark.ml.classification import LogisticRegression, GBTClassifier,LinearSVC, RandomForestClassifier\n",
    "from pyspark.ml.evaluation import MulticlassClassificationEvaluator\n",
    "from pyspark.ml.feature import StandardScaler, VectorAssembler, HashingTF, Tokenizer\n",
    "from pyspark.ml.tuning import CrossValidator, ParamGridBuilder\n"
   ],
   "outputs": [],
   "metadata": {}
  },
  {
   "cell_type": "code",
   "execution_count": 3,
   "source": [
    "# Create a Spark session\n",
    "spark = SparkSession \\\n",
    "    .builder \\\n",
    "    .appName(\"Sparkify Churn Prediction\") \\\n",
    "    .getOrCreate()"
   ],
   "outputs": [],
   "metadata": {}
  },
  {
   "cell_type": "markdown",
   "source": [
    "# Workflow <a id='workflow'></a>\n",
    "\n",
    "The workflow of this projest consist of steps that we will follow are: \n",
    "\n",
    "    1. Load and clean Dataset \n",
    "        1.1. Load the data from the json file into a Spark dataframe.\n",
    "        1.2. Delete the missing values (NAs) and remove rows where the UserId is missing. \n",
    "    2. Exploratory Data Analysis\n",
    "        2.1. Convert the 'registration' and 'ts' columns into human readable format, specifically Y-m-d H:M:S.\n",
    "        2.2. Engineer a new feature, the churn column. \n",
    "        2.3. Explore Data \n"
   ],
   "metadata": {}
  },
  {
   "cell_type": "markdown",
   "source": [
    "## 1. Load and clean Dataset <a id='preprocess'></a>"
   ],
   "metadata": {}
  },
  {
   "cell_type": "markdown",
   "source": [
    "### 1.1 First, we load the date and we take a look at the Spark dataframe"
   ],
   "metadata": {}
  },
  {
   "cell_type": "code",
   "execution_count": 4,
   "source": [
    "def load_json_data(json_filepath):\n",
    "    \"\"\"\n",
    "    Load JSON data from a given path into Spark frame.\n",
    "    \n",
    "    Parameters:\n",
    "    json_filepath (str): The path to the JSON file. \n",
    "    \n",
    "    \n",
    "    Returns:\n",
    "    df (PySpark DataFrame): The Spark dataframe created by the json data. \n",
    "    \"\"\"\n",
    "    \n",
    "    df = spark.read.json(json_filepath)\n",
    "    return df"
   ],
   "outputs": [],
   "metadata": {}
  },
  {
   "cell_type": "code",
   "execution_count": 5,
   "source": [
    "json_filepath = \"mini_sparkify_event_data.json\"\n",
    "user_logs = load_json_data(json_filepath)"
   ],
   "outputs": [],
   "metadata": {}
  },
  {
   "cell_type": "markdown",
   "source": [
    "We will be investigate several aspects of the dataset, including schema, dimension, and missing values. A glimpse of the dataset that we will deal with:"
   ],
   "metadata": {}
  },
  {
   "cell_type": "code",
   "execution_count": 6,
   "source": [
    "user_logs.take(5)"
   ],
   "outputs": [
    {
     "output_type": "execute_result",
     "data": {
      "text/plain": [
       "[Row(artist='Martha Tilston', auth='Logged In', firstName='Colin', gender='M', itemInSession=50, lastName='Freeman', length=277.89016, level='paid', location='Bakersfield, CA', method='PUT', page='NextSong', registration=1538173362000, sessionId=29, song='Rockpools', status=200, ts=1538352117000, userAgent='Mozilla/5.0 (Windows NT 6.1; WOW64; rv:31.0) Gecko/20100101 Firefox/31.0', userId='30'),\n",
       " Row(artist='Five Iron Frenzy', auth='Logged In', firstName='Micah', gender='M', itemInSession=79, lastName='Long', length=236.09424, level='free', location='Boston-Cambridge-Newton, MA-NH', method='PUT', page='NextSong', registration=1538331630000, sessionId=8, song='Canada', status=200, ts=1538352180000, userAgent='\"Mozilla/5.0 (Windows NT 6.1; WOW64) AppleWebKit/537.36 (KHTML, like Gecko) Chrome/37.0.2062.103 Safari/537.36\"', userId='9'),\n",
       " Row(artist='Adam Lambert', auth='Logged In', firstName='Colin', gender='M', itemInSession=51, lastName='Freeman', length=282.8273, level='paid', location='Bakersfield, CA', method='PUT', page='NextSong', registration=1538173362000, sessionId=29, song='Time For Miracles', status=200, ts=1538352394000, userAgent='Mozilla/5.0 (Windows NT 6.1; WOW64; rv:31.0) Gecko/20100101 Firefox/31.0', userId='30'),\n",
       " Row(artist='Enigma', auth='Logged In', firstName='Micah', gender='M', itemInSession=80, lastName='Long', length=262.71302, level='free', location='Boston-Cambridge-Newton, MA-NH', method='PUT', page='NextSong', registration=1538331630000, sessionId=8, song='Knocking On Forbidden Doors', status=200, ts=1538352416000, userAgent='\"Mozilla/5.0 (Windows NT 6.1; WOW64) AppleWebKit/537.36 (KHTML, like Gecko) Chrome/37.0.2062.103 Safari/537.36\"', userId='9'),\n",
       " Row(artist='Daft Punk', auth='Logged In', firstName='Colin', gender='M', itemInSession=52, lastName='Freeman', length=223.60771, level='paid', location='Bakersfield, CA', method='PUT', page='NextSong', registration=1538173362000, sessionId=29, song='Harder Better Faster Stronger', status=200, ts=1538352676000, userAgent='Mozilla/5.0 (Windows NT 6.1; WOW64; rv:31.0) Gecko/20100101 Firefox/31.0', userId='30')]"
      ]
     },
     "metadata": {},
     "execution_count": 6
    }
   ],
   "metadata": {}
  },
  {
   "cell_type": "code",
   "execution_count": 7,
   "source": [
    "user_logs.printSchema()"
   ],
   "outputs": [
    {
     "output_type": "stream",
     "name": "stdout",
     "text": [
      "root\n",
      " |-- artist: string (nullable = true)\n",
      " |-- auth: string (nullable = true)\n",
      " |-- firstName: string (nullable = true)\n",
      " |-- gender: string (nullable = true)\n",
      " |-- itemInSession: long (nullable = true)\n",
      " |-- lastName: string (nullable = true)\n",
      " |-- length: double (nullable = true)\n",
      " |-- level: string (nullable = true)\n",
      " |-- location: string (nullable = true)\n",
      " |-- method: string (nullable = true)\n",
      " |-- page: string (nullable = true)\n",
      " |-- registration: long (nullable = true)\n",
      " |-- sessionId: long (nullable = true)\n",
      " |-- song: string (nullable = true)\n",
      " |-- status: long (nullable = true)\n",
      " |-- ts: long (nullable = true)\n",
      " |-- userAgent: string (nullable = true)\n",
      " |-- userId: string (nullable = true)\n",
      "\n"
     ]
    }
   ],
   "metadata": {}
  },
  {
   "cell_type": "code",
   "execution_count": 8,
   "source": [
    "def data_shape(df):\n",
    "    \"\"\"\n",
    "    Print the shape of a PySpark DataFrame\n",
    "    \n",
    "    Parameters:\n",
    "    df (DataFrame): The PySpark DataFrame.\n",
    "    \n",
    "    Returns,\n",
    "    shape (list): The non-NA elements for each column and the number of columns. \n",
    "    \n",
    "    \"\"\"\n",
    "    shape = [df.count(), len(df.columns)]\n",
    "    return(shape)\n",
    "\n"
   ],
   "outputs": [],
   "metadata": {}
  },
  {
   "cell_type": "code",
   "execution_count": 9,
   "source": [
    "data_shape(user_logs)"
   ],
   "outputs": [
    {
     "output_type": "execute_result",
     "data": {
      "text/plain": [
       "[286500, 18]"
      ]
     },
     "metadata": {},
     "execution_count": 9
    }
   ],
   "metadata": {}
  },
  {
   "cell_type": "markdown",
   "source": [
    "### 1.2 Secondly we delete the missing values (NAs) and remove rows where the UserId is missing. "
   ],
   "metadata": {}
  },
  {
   "cell_type": "markdown",
   "source": [
    "After loading and taking a look at the Spark dataset, it's time to clean the dataset, by checking and removing for invalid or missing data. For example, records without userId or sessionId."
   ],
   "metadata": {}
  },
  {
   "cell_type": "code",
   "execution_count": 10,
   "source": [
    "# Drop missing values (NAs)\n",
    "valid_user_logs = user_logs.dropna(how = 'any', subset = ['userId', 'sessionId'])"
   ],
   "outputs": [],
   "metadata": {}
  },
  {
   "cell_type": "code",
   "execution_count": 11,
   "source": [
    "valid_user_logs.head(5)"
   ],
   "outputs": [
    {
     "output_type": "execute_result",
     "data": {
      "text/plain": [
       "[Row(artist='Martha Tilston', auth='Logged In', firstName='Colin', gender='M', itemInSession=50, lastName='Freeman', length=277.89016, level='paid', location='Bakersfield, CA', method='PUT', page='NextSong', registration=1538173362000, sessionId=29, song='Rockpools', status=200, ts=1538352117000, userAgent='Mozilla/5.0 (Windows NT 6.1; WOW64; rv:31.0) Gecko/20100101 Firefox/31.0', userId='30'),\n",
       " Row(artist='Five Iron Frenzy', auth='Logged In', firstName='Micah', gender='M', itemInSession=79, lastName='Long', length=236.09424, level='free', location='Boston-Cambridge-Newton, MA-NH', method='PUT', page='NextSong', registration=1538331630000, sessionId=8, song='Canada', status=200, ts=1538352180000, userAgent='\"Mozilla/5.0 (Windows NT 6.1; WOW64) AppleWebKit/537.36 (KHTML, like Gecko) Chrome/37.0.2062.103 Safari/537.36\"', userId='9'),\n",
       " Row(artist='Adam Lambert', auth='Logged In', firstName='Colin', gender='M', itemInSession=51, lastName='Freeman', length=282.8273, level='paid', location='Bakersfield, CA', method='PUT', page='NextSong', registration=1538173362000, sessionId=29, song='Time For Miracles', status=200, ts=1538352394000, userAgent='Mozilla/5.0 (Windows NT 6.1; WOW64; rv:31.0) Gecko/20100101 Firefox/31.0', userId='30'),\n",
       " Row(artist='Enigma', auth='Logged In', firstName='Micah', gender='M', itemInSession=80, lastName='Long', length=262.71302, level='free', location='Boston-Cambridge-Newton, MA-NH', method='PUT', page='NextSong', registration=1538331630000, sessionId=8, song='Knocking On Forbidden Doors', status=200, ts=1538352416000, userAgent='\"Mozilla/5.0 (Windows NT 6.1; WOW64) AppleWebKit/537.36 (KHTML, like Gecko) Chrome/37.0.2062.103 Safari/537.36\"', userId='9'),\n",
       " Row(artist='Daft Punk', auth='Logged In', firstName='Colin', gender='M', itemInSession=52, lastName='Freeman', length=223.60771, level='paid', location='Bakersfield, CA', method='PUT', page='NextSong', registration=1538173362000, sessionId=29, song='Harder Better Faster Stronger', status=200, ts=1538352676000, userAgent='Mozilla/5.0 (Windows NT 6.1; WOW64; rv:31.0) Gecko/20100101 Firefox/31.0', userId='30')]"
      ]
     },
     "metadata": {},
     "execution_count": 11
    }
   ],
   "metadata": {}
  },
  {
   "cell_type": "markdown",
   "source": [
    "After dropping the missing values, we discover that missing userId values are actually represented by an empty string as shown below. In case the user didn't log in or haven't registered yet, an empty string is generated as userID. This value could contribute little to zero to our analysis. As a result, we need to remove these rows with empty string as userId.\n"
   ],
   "metadata": {}
  },
  {
   "cell_type": "code",
   "execution_count": 12,
   "source": [
    "# Investigate the 'userId' column\n",
    "valid_user_logs.select('userId').dropDuplicates().sort('userId').show(5)\n",
    "# Remove empty strings in the 'userID' column\n",
    "valid_user_logs = valid_user_logs.filter(valid_user_logs['userId'] != '')"
   ],
   "outputs": [
    {
     "output_type": "stream",
     "name": "stdout",
     "text": [
      "+------+\n",
      "|userId|\n",
      "+------+\n",
      "|      |\n",
      "|    10|\n",
      "|   100|\n",
      "|100001|\n",
      "|100002|\n",
      "+------+\n",
      "only showing top 5 rows\n",
      "\n"
     ]
    }
   ],
   "metadata": {}
  },
  {
   "cell_type": "markdown",
   "source": [
    "# 2. Exploratory Data Analysis <a id='eda'></a>\n"
   ],
   "metadata": {}
  },
  {
   "cell_type": "markdown",
   "source": [
    "### 2.1 Convert the time columns of the dataset <a id='time_convert'></a>"
   ],
   "metadata": {}
  },
  {
   "cell_type": "markdown",
   "source": [
    "In this project, we perform Exploratory Data Analysis (EDA) by loading a small subset of the full dataset and doing basic manipulations and preprocess of the subset within Spark. The small subset is provided in this workspace. "
   ],
   "metadata": {}
  },
  {
   "cell_type": "markdown",
   "source": [
    "Let's take a look on the dataset that we will utilize in this project:"
   ],
   "metadata": {}
  },
  {
   "cell_type": "code",
   "execution_count": 13,
   "source": [
    "valid_user_logs_pd = valid_user_logs.toPandas()\n",
    "valid_user_logs_pd.head()"
   ],
   "outputs": [
    {
     "output_type": "execute_result",
     "data": {
      "text/plain": [
       "             artist       auth firstName gender  itemInSession lastName  \\\n",
       "0    Martha Tilston  Logged In     Colin      M             50  Freeman   \n",
       "1  Five Iron Frenzy  Logged In     Micah      M             79     Long   \n",
       "2      Adam Lambert  Logged In     Colin      M             51  Freeman   \n",
       "3            Enigma  Logged In     Micah      M             80     Long   \n",
       "4         Daft Punk  Logged In     Colin      M             52  Freeman   \n",
       "\n",
       "      length level                        location method      page  \\\n",
       "0  277.89016  paid                 Bakersfield, CA    PUT  NextSong   \n",
       "1  236.09424  free  Boston-Cambridge-Newton, MA-NH    PUT  NextSong   \n",
       "2  282.82730  paid                 Bakersfield, CA    PUT  NextSong   \n",
       "3  262.71302  free  Boston-Cambridge-Newton, MA-NH    PUT  NextSong   \n",
       "4  223.60771  paid                 Bakersfield, CA    PUT  NextSong   \n",
       "\n",
       "    registration  sessionId                           song  status  \\\n",
       "0  1538173362000         29                      Rockpools     200   \n",
       "1  1538331630000          8                         Canada     200   \n",
       "2  1538173362000         29              Time For Miracles     200   \n",
       "3  1538331630000          8    Knocking On Forbidden Doors     200   \n",
       "4  1538173362000         29  Harder Better Faster Stronger     200   \n",
       "\n",
       "              ts                                          userAgent userId  \n",
       "0  1538352117000  Mozilla/5.0 (Windows NT 6.1; WOW64; rv:31.0) G...     30  \n",
       "1  1538352180000  \"Mozilla/5.0 (Windows NT 6.1; WOW64) AppleWebK...      9  \n",
       "2  1538352394000  Mozilla/5.0 (Windows NT 6.1; WOW64; rv:31.0) G...     30  \n",
       "3  1538352416000  \"Mozilla/5.0 (Windows NT 6.1; WOW64) AppleWebK...      9  \n",
       "4  1538352676000  Mozilla/5.0 (Windows NT 6.1; WOW64; rv:31.0) G...     30  "
      ],
      "text/html": [
       "<div>\n",
       "<style scoped>\n",
       "    .dataframe tbody tr th:only-of-type {\n",
       "        vertical-align: middle;\n",
       "    }\n",
       "\n",
       "    .dataframe tbody tr th {\n",
       "        vertical-align: top;\n",
       "    }\n",
       "\n",
       "    .dataframe thead th {\n",
       "        text-align: right;\n",
       "    }\n",
       "</style>\n",
       "<table border=\"1\" class=\"dataframe\">\n",
       "  <thead>\n",
       "    <tr style=\"text-align: right;\">\n",
       "      <th></th>\n",
       "      <th>artist</th>\n",
       "      <th>auth</th>\n",
       "      <th>firstName</th>\n",
       "      <th>gender</th>\n",
       "      <th>itemInSession</th>\n",
       "      <th>lastName</th>\n",
       "      <th>length</th>\n",
       "      <th>level</th>\n",
       "      <th>location</th>\n",
       "      <th>method</th>\n",
       "      <th>page</th>\n",
       "      <th>registration</th>\n",
       "      <th>sessionId</th>\n",
       "      <th>song</th>\n",
       "      <th>status</th>\n",
       "      <th>ts</th>\n",
       "      <th>userAgent</th>\n",
       "      <th>userId</th>\n",
       "    </tr>\n",
       "  </thead>\n",
       "  <tbody>\n",
       "    <tr>\n",
       "      <th>0</th>\n",
       "      <td>Martha Tilston</td>\n",
       "      <td>Logged In</td>\n",
       "      <td>Colin</td>\n",
       "      <td>M</td>\n",
       "      <td>50</td>\n",
       "      <td>Freeman</td>\n",
       "      <td>277.89016</td>\n",
       "      <td>paid</td>\n",
       "      <td>Bakersfield, CA</td>\n",
       "      <td>PUT</td>\n",
       "      <td>NextSong</td>\n",
       "      <td>1538173362000</td>\n",
       "      <td>29</td>\n",
       "      <td>Rockpools</td>\n",
       "      <td>200</td>\n",
       "      <td>1538352117000</td>\n",
       "      <td>Mozilla/5.0 (Windows NT 6.1; WOW64; rv:31.0) G...</td>\n",
       "      <td>30</td>\n",
       "    </tr>\n",
       "    <tr>\n",
       "      <th>1</th>\n",
       "      <td>Five Iron Frenzy</td>\n",
       "      <td>Logged In</td>\n",
       "      <td>Micah</td>\n",
       "      <td>M</td>\n",
       "      <td>79</td>\n",
       "      <td>Long</td>\n",
       "      <td>236.09424</td>\n",
       "      <td>free</td>\n",
       "      <td>Boston-Cambridge-Newton, MA-NH</td>\n",
       "      <td>PUT</td>\n",
       "      <td>NextSong</td>\n",
       "      <td>1538331630000</td>\n",
       "      <td>8</td>\n",
       "      <td>Canada</td>\n",
       "      <td>200</td>\n",
       "      <td>1538352180000</td>\n",
       "      <td>\"Mozilla/5.0 (Windows NT 6.1; WOW64) AppleWebK...</td>\n",
       "      <td>9</td>\n",
       "    </tr>\n",
       "    <tr>\n",
       "      <th>2</th>\n",
       "      <td>Adam Lambert</td>\n",
       "      <td>Logged In</td>\n",
       "      <td>Colin</td>\n",
       "      <td>M</td>\n",
       "      <td>51</td>\n",
       "      <td>Freeman</td>\n",
       "      <td>282.82730</td>\n",
       "      <td>paid</td>\n",
       "      <td>Bakersfield, CA</td>\n",
       "      <td>PUT</td>\n",
       "      <td>NextSong</td>\n",
       "      <td>1538173362000</td>\n",
       "      <td>29</td>\n",
       "      <td>Time For Miracles</td>\n",
       "      <td>200</td>\n",
       "      <td>1538352394000</td>\n",
       "      <td>Mozilla/5.0 (Windows NT 6.1; WOW64; rv:31.0) G...</td>\n",
       "      <td>30</td>\n",
       "    </tr>\n",
       "    <tr>\n",
       "      <th>3</th>\n",
       "      <td>Enigma</td>\n",
       "      <td>Logged In</td>\n",
       "      <td>Micah</td>\n",
       "      <td>M</td>\n",
       "      <td>80</td>\n",
       "      <td>Long</td>\n",
       "      <td>262.71302</td>\n",
       "      <td>free</td>\n",
       "      <td>Boston-Cambridge-Newton, MA-NH</td>\n",
       "      <td>PUT</td>\n",
       "      <td>NextSong</td>\n",
       "      <td>1538331630000</td>\n",
       "      <td>8</td>\n",
       "      <td>Knocking On Forbidden Doors</td>\n",
       "      <td>200</td>\n",
       "      <td>1538352416000</td>\n",
       "      <td>\"Mozilla/5.0 (Windows NT 6.1; WOW64) AppleWebK...</td>\n",
       "      <td>9</td>\n",
       "    </tr>\n",
       "    <tr>\n",
       "      <th>4</th>\n",
       "      <td>Daft Punk</td>\n",
       "      <td>Logged In</td>\n",
       "      <td>Colin</td>\n",
       "      <td>M</td>\n",
       "      <td>52</td>\n",
       "      <td>Freeman</td>\n",
       "      <td>223.60771</td>\n",
       "      <td>paid</td>\n",
       "      <td>Bakersfield, CA</td>\n",
       "      <td>PUT</td>\n",
       "      <td>NextSong</td>\n",
       "      <td>1538173362000</td>\n",
       "      <td>29</td>\n",
       "      <td>Harder Better Faster Stronger</td>\n",
       "      <td>200</td>\n",
       "      <td>1538352676000</td>\n",
       "      <td>Mozilla/5.0 (Windows NT 6.1; WOW64; rv:31.0) G...</td>\n",
       "      <td>30</td>\n",
       "    </tr>\n",
       "  </tbody>\n",
       "</table>\n",
       "</div>"
      ]
     },
     "metadata": {},
     "execution_count": 13
    }
   ],
   "metadata": {}
  },
  {
   "cell_type": "markdown",
   "source": [
    "### 2.2 Define Churn <a id='churn'></a>\n",
    "\n",
    "We defined a user as churned when there's an event called **Cancellation Confirmation** appeared in activity log. This event happens for both paid and free users, meaning that their account associated with us was terminated at the time. When also kept in track of a downgrade event, labeled as Submit Downgrade in activity log.\n"
   ],
   "metadata": {}
  },
  {
   "cell_type": "code",
   "execution_count": 14,
   "source": [
    "# Create downgrade label\n",
    "downgrade_submission = udf(lambda x: 1 if x == \"Submit Downgrade\" else 0, IntegerType())\n",
    "valid_user_logs = valid_user_logs.withColumn(\"Downgrade_submission\", downgrade_submission(\"page\"))"
   ],
   "outputs": [],
   "metadata": {}
  },
  {
   "cell_type": "code",
   "execution_count": 15,
   "source": [
    "# Flag user who've downgraded at least once\n",
    "windowval = Window.partitionBy('userId')\n",
    "valid_user_logs = valid_user_logs.withColumn('Downgrade', max('Downgrade_submission').over(windowval))"
   ],
   "outputs": [],
   "metadata": {}
  },
  {
   "cell_type": "code",
   "execution_count": 16,
   "source": [
    "# Create churn \n",
    "churn_log = udf(lambda x: 1 if x == 'Cancellation Confirmation' else 0, IntegerType())\n",
    "valid_user_logs = valid_user_logs.withColumn('churn_log', churn_log('page'))"
   ],
   "outputs": [],
   "metadata": {}
  },
  {
   "cell_type": "code",
   "execution_count": 17,
   "source": [
    "# Flag cancellers\n",
    "windowval = Window.partitionBy('userId')\n",
    "valid_user_logs = valid_user_logs.withColumn('Churn', max('churn_log').over(windowval))"
   ],
   "outputs": [],
   "metadata": {}
  },
  {
   "cell_type": "code",
   "execution_count": 18,
   "source": [
    "valid_user_logs.select(['userId', 'Churn', 'Downgrade']).dropDuplicates().show(20)"
   ],
   "outputs": [
    {
     "output_type": "stream",
     "name": "stdout",
     "text": [
      "+------+-----+---------+\n",
      "|userId|Churn|Downgrade|\n",
      "+------+-----+---------+\n",
      "|100010|    0|        0|\n",
      "|200002|    0|        0|\n",
      "|   125|    1|        0|\n",
      "|   124|    0|        0|\n",
      "|    51|    1|        0|\n",
      "|     7|    0|        0|\n",
      "|    15|    0|        0|\n",
      "|    54|    1|        1|\n",
      "|   155|    0|        0|\n",
      "|100014|    1|        0|\n",
      "|   132|    0|        0|\n",
      "|   154|    0|        0|\n",
      "|   101|    1|        0|\n",
      "|    11|    0|        1|\n",
      "|   138|    0|        0|\n",
      "|300017|    0|        0|\n",
      "|100021|    1|        0|\n",
      "|    29|    1|        0|\n",
      "|    69|    0|        0|\n",
      "|   112|    0|        0|\n",
      "+------+-----+---------+\n",
      "only showing top 20 rows\n",
      "\n"
     ]
    }
   ],
   "metadata": {}
  },
  {
   "cell_type": "markdown",
   "source": [
    "As shown in the table above, the 'registration' and 'ts' columns are not in a nice human readable format, so we need to convert the into a Y-m-d H:M:S format."
   ],
   "metadata": {}
  },
  {
   "cell_type": "code",
   "execution_count": 19,
   "source": [
    "# Convert the time columns \n",
    "convert_time = udf(lambda x: datetime.datetime.fromtimestamp(x / 1000.0).strftime(\"%Y-%m-%d %H:%M:%S\"))\n",
    "valid_user_logs = valid_user_logs.withColumn('Event_time', convert_time('ts'))\n",
    "valid_user_logs = valid_user_logs.withColumn('Registration_time', convert_time('registration'))"
   ],
   "outputs": [],
   "metadata": {}
  },
  {
   "cell_type": "markdown",
   "source": [
    "Let's check the converted time columns in the dataframe. "
   ],
   "metadata": {}
  },
  {
   "cell_type": "code",
   "execution_count": 20,
   "source": [
    "valid_user_logs.head()"
   ],
   "outputs": [
    {
     "output_type": "execute_result",
     "data": {
      "text/plain": [
       "Row(artist='Sleeping With Sirens', auth='Logged In', firstName='Darianna', gender='F', itemInSession=0, lastName='Carpenter', length=202.97098, level='free', location='Bridgeport-Stamford-Norwalk, CT', method='PUT', page='NextSong', registration=1538016340000, sessionId=31, song='Captain Tyin Knots VS Mr Walkway (No Way)', status=200, ts=1539003534000, userAgent='\"Mozilla/5.0 (iPhone; CPU iPhone OS 7_1_2 like Mac OS X) AppleWebKit/537.51.2 (KHTML, like Gecko) Version/7.0 Mobile/11D257 Safari/9537.53\"', userId='100010', Downgrade_submission=0, Downgrade=0, churn_log=0, Churn=0, Event_time='2018-10-08 12:58:54', Registration_time='2018-09-27 02:45:40')"
      ]
     },
     "metadata": {},
     "execution_count": 20
    }
   ],
   "metadata": {}
  },
  {
   "cell_type": "markdown",
   "source": [
    "\n",
    "### 2.3 Explore Data <a id='data'></a>"
   ],
   "metadata": {}
  },
  {
   "cell_type": "markdown",
   "source": [
    "#### 2.3.1 Unique events\n"
   ],
   "metadata": {}
  },
  {
   "cell_type": "code",
   "execution_count": 21,
   "source": [
    "valid_user_logs.select('page').dropDuplicates().show()\n",
    "print(\"There are 16 unique activities that a user can have.\")"
   ],
   "outputs": [
    {
     "output_type": "stream",
     "name": "stdout",
     "text": [
      "+--------------------+\n",
      "|                page|\n",
      "+--------------------+\n",
      "|              Cancel|\n",
      "|    Submit Downgrade|\n",
      "|         Thumbs Down|\n",
      "|                Home|\n",
      "|           Downgrade|\n",
      "|         Roll Advert|\n",
      "|              Logout|\n",
      "|       Save Settings|\n",
      "|Cancellation Conf...|\n",
      "|               About|\n",
      "|            Settings|\n",
      "|     Add to Playlist|\n",
      "|          Add Friend|\n",
      "|            NextSong|\n",
      "|           Thumbs Up|\n",
      "|                Help|\n",
      "|             Upgrade|\n",
      "|               Error|\n",
      "|      Submit Upgrade|\n",
      "+--------------------+\n",
      "\n",
      "There are 16 unique activities that a user can have.\n"
     ]
    }
   ],
   "metadata": {}
  },
  {
   "cell_type": "markdown",
   "source": [
    "#### 2.3.2 User statistics "
   ],
   "metadata": {}
  },
  {
   "cell_type": "code",
   "execution_count": 22,
   "source": [
    "user_behavior = valid_user_logs.where('page == \"NextSong\" OR page == \"Thumbs Up\"').groupby(['userId', 'churn', 'gender', 'page']).count().toPandas()\n",
    "user_behavior = user_behavior.pivot_table(index=['userId','churn','gender'], values='count', columns='page').reset_index()"
   ],
   "outputs": [],
   "metadata": {}
  },
  {
   "cell_type": "markdown",
   "source": [
    "Let's check the overall behavior of a user:"
   ],
   "metadata": {}
  },
  {
   "cell_type": "code",
   "execution_count": 23,
   "source": [
    "user_behavior.head(5)"
   ],
   "outputs": [
    {
     "output_type": "execute_result",
     "data": {
      "text/plain": [
       "page  userId  churn gender  NextSong  Thumbs Up\n",
       "0         10      0      M     673.0       37.0\n",
       "1        100      0      M    2682.0      148.0\n",
       "2     100001      1      F     133.0        8.0\n",
       "3     100002      0      F     195.0        5.0\n",
       "4     100003      1      F      51.0        3.0"
      ],
      "text/html": [
       "<div>\n",
       "<style scoped>\n",
       "    .dataframe tbody tr th:only-of-type {\n",
       "        vertical-align: middle;\n",
       "    }\n",
       "\n",
       "    .dataframe tbody tr th {\n",
       "        vertical-align: top;\n",
       "    }\n",
       "\n",
       "    .dataframe thead th {\n",
       "        text-align: right;\n",
       "    }\n",
       "</style>\n",
       "<table border=\"1\" class=\"dataframe\">\n",
       "  <thead>\n",
       "    <tr style=\"text-align: right;\">\n",
       "      <th>page</th>\n",
       "      <th>userId</th>\n",
       "      <th>churn</th>\n",
       "      <th>gender</th>\n",
       "      <th>NextSong</th>\n",
       "      <th>Thumbs Up</th>\n",
       "    </tr>\n",
       "  </thead>\n",
       "  <tbody>\n",
       "    <tr>\n",
       "      <th>0</th>\n",
       "      <td>10</td>\n",
       "      <td>0</td>\n",
       "      <td>M</td>\n",
       "      <td>673.0</td>\n",
       "      <td>37.0</td>\n",
       "    </tr>\n",
       "    <tr>\n",
       "      <th>1</th>\n",
       "      <td>100</td>\n",
       "      <td>0</td>\n",
       "      <td>M</td>\n",
       "      <td>2682.0</td>\n",
       "      <td>148.0</td>\n",
       "    </tr>\n",
       "    <tr>\n",
       "      <th>2</th>\n",
       "      <td>100001</td>\n",
       "      <td>1</td>\n",
       "      <td>F</td>\n",
       "      <td>133.0</td>\n",
       "      <td>8.0</td>\n",
       "    </tr>\n",
       "    <tr>\n",
       "      <th>3</th>\n",
       "      <td>100002</td>\n",
       "      <td>0</td>\n",
       "      <td>F</td>\n",
       "      <td>195.0</td>\n",
       "      <td>5.0</td>\n",
       "    </tr>\n",
       "    <tr>\n",
       "      <th>4</th>\n",
       "      <td>100003</td>\n",
       "      <td>1</td>\n",
       "      <td>F</td>\n",
       "      <td>51.0</td>\n",
       "      <td>3.0</td>\n",
       "    </tr>\n",
       "  </tbody>\n",
       "</table>\n",
       "</div>"
      ]
     },
     "metadata": {},
     "execution_count": 23
    }
   ],
   "metadata": {}
  },
  {
   "cell_type": "code",
   "execution_count": 25,
   "source": [
    "ax = sns.violinplot(data=user_behavior, x='churn', y='NextSong', hue='gender', palette=\"Greys_r\")\n",
    "plt.xlabel('User churn')\n",
    "plt.ylabel('User total listened songs')\n",
    "plt.legend(title='Gender', loc='best')\n",
    "plt.title('User behavior regarding the listened songs')\n",
    "sns.despine(ax=ax);"
   ],
   "outputs": [
    {
     "output_type": "display_data",
     "data": {
      "text/plain": [
       "<matplotlib.figure.Figure at 0x7fc25e93a438>"
      ],
      "image/png": "[encoded data removed]"
     },
     "metadata": {
      "needs_background": "light"
     }
    }
   ],
   "metadata": {}
  },
  {
   "cell_type": "code",
   "execution_count": 26,
   "source": [
    "ax = sns.violinplot(data=user_behavior, x='churn', y='Thumbs Up', hue='gender', palette=\"Greys_r\")\n",
    "plt.xlabel('User churn')\n",
    "plt.ylabel('User total liked songs')\n",
    "plt.legend(title='Gender', loc='best')\n",
    "plt.title('User behavior regarding the liked songs')\n",
    "sns.despine(ax=ax);"
   ],
   "outputs": [
    {
     "output_type": "display_data",
     "data": {
      "text/plain": [
       "<matplotlib.figure.Figure at 0x7fc24eba05f8>"
      ],
      "image/png": "[encoded data removed]"
     },
     "metadata": {
      "needs_background": "light"
     }
    }
   ],
   "metadata": {}
  },
  {
   "cell_type": "markdown",
   "source": [
    "#### 2.3.3 Churns per gender "
   ],
   "metadata": {}
  },
  {
   "cell_type": "code",
   "execution_count": 27,
   "source": [
    "churn_gender = valid_user_logs.dropDuplicates([\"userId\", \"gender\"]).groupby([\"Churn\", \"gender\"]).count().sort(\"Churn\").toPandas()\n",
    "\n",
    "ax = sns.barplot(x='Churn', y='count', hue='gender', data=churn_gender, palette=\"Greys_r\")\n",
    "plt.xlabel('User churn')\n",
    "plt.ylabel('Total')\n",
    "plt.legend(title='Gender', loc='best')\n",
    "plt.title('Churns per gender')\n",
    "sns.despine(ax=ax);"
   ],
   "outputs": [
    {
     "output_type": "display_data",
     "data": {
      "text/plain": [
       "<matplotlib.figure.Figure at 0x7fc252897ac8>"
      ],
      "image/png": "[encoded data removed]"
     },
     "metadata": {
      "needs_background": "light"
     }
    }
   ],
   "metadata": {}
  },
  {
   "cell_type": "markdown",
   "source": [
    "#### 2.3.4 Songs per session"
   ],
   "metadata": {}
  },
  {
   "cell_type": "code",
   "execution_count": 28,
   "source": [
    "songs_per_session = valid_user_logs.where('page == \"NextSong\"').groupby(['churn', 'userId', 'sessionId','gender']).count()\\\n",
    "    .groupby(['churn', 'userId', 'gender']).agg({'count':'avg'})\\\n",
    "    .withColumnRenamed('avg(count)', 'avg_songs_played')\\\n",
    "    .toPandas()\n",
    "\n",
    "ax = sns.violinplot('churn', y='avg_songs_played', hue='gender', data=songs_per_session, palette=\"Greys_r\")\n",
    "plt.xlabel('User churn')\n",
    "plt.ylabel('Number of songs per session')\n",
    "plt.legend(title='Gender', loc='best', ncol=2)\n",
    "plt.title('Songs per session')\n",
    "sns.despine(ax=ax);\n"
   ],
   "outputs": [
    {
     "output_type": "display_data",
     "data": {
      "text/plain": [
       "<matplotlib.figure.Figure at 0x7fc24d74f358>"
      ],
      "image/png": "[encoded data removed]"
     },
     "metadata": {
      "needs_background": "light"
     }
    }
   ],
   "metadata": {}
  },
  {
   "cell_type": "markdown",
   "source": [
    "#### 2.3.5 User churn point "
   ],
   "metadata": {}
  },
  {
   "cell_type": "code",
   "execution_count": 29,
   "source": [
    "churn_point = valid_user_logs.filter('page == \"Cancellation Confirmation\"').groupby('level').count().toPandas()\n",
    "\n",
    "ax = sns.barplot(data=churn_point, x='level', y='count', palette=\"Greys_r\")\n",
    "plt.xlabel('User plan')\n",
    "plt.ylabel('')\n",
    "plt.title('User churn point')\n",
    "sns.despine(ax=ax);"
   ],
   "outputs": [
    {
     "output_type": "display_data",
     "data": {
      "text/plain": [
       "<matplotlib.figure.Figure at 0x7fc24d771550>"
      ],
      "image/png": "[encoded data removed]"
     },
     "metadata": {
      "needs_background": "light"
     }
    }
   ],
   "metadata": {}
  },
  {
   "cell_type": "markdown",
   "source": [
    "#### 2.3.6 Registration time "
   ],
   "metadata": {}
  },
  {
   "cell_type": "code",
   "execution_count": 30,
   "source": [
    "registration_period = valid_user_logs \\\n",
    "    .select('userId','registration','ts','churn') \\\n",
    "    .withColumn('lifetime',(valid_user_logs.ts-valid_user_logs.registration)) \\\n",
    "    .groupBy('userId','churn') \\\n",
    "    .agg({'lifetime':'max'}) \\\n",
    "    .withColumnRenamed('max(lifetime)','lifetime') \\\n",
    "    .select('userId', 'churn', (col('lifetime')/1000/3600/24).alias('lifetime')) \\\n",
    "    .toPandas()\n",
    "\n",
    "ax = sns.boxplot(data=registration_period, y='churn', x='lifetime', orient='h', palette=\"Greys_r\")\n",
    "plt.xlabel('Registration time until the churn (days)')\n",
    "plt.ylabel('User churn')\n",
    "plt.title('Registration time until the cancellation')\n",
    "sns.despine(ax=ax);"
   ],
   "outputs": [
    {
     "output_type": "display_data",
     "data": {
      "text/plain": [
       "<matplotlib.figure.Figure at 0x7fc24b50b940>"
      ],
      "image/png": "[encoded data removed]"
     },
     "metadata": {
      "needs_background": "light"
     }
    }
   ],
   "metadata": {}
  },
  {
   "cell_type": "markdown",
   "source": [
    "# Feature Engineering <a id='feature_engineer'></a>"
   ],
   "metadata": {}
  },
  {
   "cell_type": "markdown",
   "source": [
    "We have already investigated the dataset, and we are ready to engineer the most promising features to train your model on."
   ],
   "metadata": {}
  },
  {
   "cell_type": "markdown",
   "source": [
    "#### Feature 1: Registration time "
   ],
   "metadata": {}
  },
  {
   "cell_type": "markdown",
   "source": [
    "The first feature we will engineer is the time period since the registration of the user. The Regirtation period could reflect the user loyality, engagement, and etc."
   ],
   "metadata": {}
  },
  {
   "cell_type": "code",
   "execution_count": 33,
   "source": [
    "#Registration time\n",
    "feature_1 = valid_user_logs \\\n",
    "    .select('userId','registration','ts') \\\n",
    "    .withColumn('registration_time',(valid_user_logs.ts-valid_user_logs.registration)) \\\n",
    "    .groupBy('userId') \\\n",
    "    .agg({'registration_time':'max'}) \\\n",
    "    .withColumnRenamed('max(registration_time)','registration_time') \\\n",
    "    .select('userId', (col('registration_time')/1000/3600/24).alias('registration_time'))\n",
    "feature_1.describe().show()\n"
   ],
   "outputs": [
    {
     "output_type": "stream",
     "name": "stdout",
     "text": [
      "+-------+------------------+-------------------+\n",
      "|summary|            userId|  registration_time|\n",
      "+-------+------------------+-------------------+\n",
      "|  count|               225|                225|\n",
      "|   mean|65391.013333333336|   79.8456834876543|\n",
      "| stddev|105396.47791907164|  37.66147001861254|\n",
      "|    min|                10|0.31372685185185184|\n",
      "|    max|                99|  256.3776736111111|\n",
      "+-------+------------------+-------------------+\n",
      "\n"
     ]
    }
   ],
   "metadata": {}
  },
  {
   "cell_type": "markdown",
   "source": [
    "#### Feature 2: Total number of listened songs\n"
   ],
   "metadata": {}
  },
  {
   "cell_type": "markdown",
   "source": [
    "The second feature we will engineer is the total number of listened songs. The high number of listened songs indicated that the use spend more time with our service, and the user built a  deeper engagement which leads to the unlike possibility of cancellation of our services. "
   ],
   "metadata": {}
  },
  {
   "cell_type": "code",
   "execution_count": 34,
   "source": [
    "# Total number of listened songs \n",
    "feature_2 = valid_user_logs \\\n",
    "    .select('userID','song') \\\n",
    "    .groupBy('userID') \\\n",
    "    .count() \\\n",
    "    .withColumnRenamed('count', 'total_num_listened_songs')\n",
    "feature_2.describe().show()"
   ],
   "outputs": [
    {
     "output_type": "stream",
     "name": "stdout",
     "text": [
      "+-------+------------------+------------------------+\n",
      "|summary|            userID|total_num_listened_songs|\n",
      "+-------+------------------+------------------------+\n",
      "|  count|               225|                     225|\n",
      "|   mean|65391.013333333336|                 1236.24|\n",
      "| stddev|105396.47791907164|       1329.531716432519|\n",
      "|    min|                10|                       6|\n",
      "|    max|                99|                    9632|\n",
      "+-------+------------------+------------------------+\n",
      "\n"
     ]
    }
   ],
   "metadata": {}
  },
  {
   "cell_type": "markdown",
   "source": [
    "#### Feature 3: Total number of thumbs up\n"
   ],
   "metadata": {}
  },
  {
   "cell_type": "markdown",
   "source": [
    "The third feature we will engineer is total number of thumbs up. This will reflect the quality of our service and the user engagement."
   ],
   "metadata": {}
  },
  {
   "cell_type": "code",
   "execution_count": 35,
   "source": [
    "# Number of Thumbs-Up/Down\n",
    "feature_3 = valid_user_logs \\\n",
    "    .select('userID','page') \\\n",
    "    .where(valid_user_logs.page == 'Thumbs Up') \\\n",
    "    .groupBy('userID') \\\n",
    "    .count() \\\n",
    "    .withColumnRenamed('count', 'total_num_thumb_up') \n",
    "feature_3.describe().show()\n"
   ],
   "outputs": [
    {
     "output_type": "stream",
     "name": "stdout",
     "text": [
      "+-------+------------------+------------------+\n",
      "|summary|            userID|total_num_thumb_up|\n",
      "+-------+------------------+------------------+\n",
      "|  count|               220|               220|\n",
      "|   mean| 66420.27727272727|             57.05|\n",
      "| stddev|106196.51156121881| 65.67028650524044|\n",
      "|    min|                10|                 1|\n",
      "|    max|                99|               437|\n",
      "+-------+------------------+------------------+\n",
      "\n"
     ]
    }
   ],
   "metadata": {}
  },
  {
   "cell_type": "markdown",
   "source": [
    "#### Feature 4: Total number of thumbs down\n",
    "\n"
   ],
   "metadata": {}
  },
  {
   "cell_type": "markdown",
   "source": [
    "The third feature we will engineer is total number of thumbs down. This will reflect the quality of our service and the user engagement."
   ],
   "metadata": {}
  },
  {
   "cell_type": "code",
   "execution_count": 36,
   "source": [
    "#Number of Thumbs-Down\n",
    "feature_4 = valid_user_logs \\\n",
    "    .select('userID','page') \\\n",
    "    .where(valid_user_logs.page == 'Thumbs Down') \\\n",
    "    .groupBy('userID') \\\n",
    "    .count() \\\n",
    "    .withColumnRenamed('count', 'total_num_thumb_down')\n",
    "feature_4.describe().show()"
   ],
   "outputs": [
    {
     "output_type": "stream",
     "name": "stdout",
     "text": [
      "+-------+------------------+--------------------+\n",
      "|summary|            userID|total_num_thumb_down|\n",
      "+-------+------------------+--------------------+\n",
      "|  count|               203|                 203|\n",
      "|   mean| 66066.16256157635|  12.541871921182265|\n",
      "| stddev|106108.32569893777|  13.198108566983787|\n",
      "|    min|                10|                   1|\n",
      "|    max|                99|                  75|\n",
      "+-------+------------------+--------------------+\n",
      "\n"
     ]
    }
   ],
   "metadata": {}
  },
  {
   "cell_type": "markdown",
   "source": [
    "#### Feature 5: Total number of songs added to a playlist"
   ],
   "metadata": {}
  },
  {
   "cell_type": "markdown",
   "source": [
    "The fifth feature we will engineer is the total number of songs added to a playlist. The purpose of this feature is the same as the 3rd and 4th features."
   ],
   "metadata": {}
  },
  {
   "cell_type": "code",
   "execution_count": 37,
   "source": [
    "# Total number of songs added to a playlist\n",
    "feature_5 = valid_user_logs \\\n",
    "    .select('userID','page') \\\n",
    "    .where(valid_user_logs.page == 'Add to Playlist') \\\n",
    "    .groupBy('userID') \\\n",
    "    .count() \\\n",
    "    .withColumnRenamed('count', 'total_songs_added_to_playlist')\n",
    "feature_5.describe().show()"
   ],
   "outputs": [
    {
     "output_type": "stream",
     "name": "stdout",
     "text": [
      "+-------+------------------+-----------------------------+\n",
      "|summary|            userID|total_songs_added_to_playlist|\n",
      "+-------+------------------+-----------------------------+\n",
      "|  count|               215|                          215|\n",
      "|   mean| 66103.63720930232|            30.35348837209302|\n",
      "| stddev|106360.47999565038|             32.8520568555997|\n",
      "|    min|                10|                            1|\n",
      "|    max|                99|                          240|\n",
      "+-------+------------------+-----------------------------+\n",
      "\n"
     ]
    }
   ],
   "metadata": {}
  },
  {
   "cell_type": "markdown",
   "source": [
    "#### Feature 6: Total number of added friend"
   ],
   "metadata": {}
  },
  {
   "cell_type": "markdown",
   "source": [
    "The sixth feature we will engineer is the total number of added friends. The higher the number, the deeper the engagement of the user with our services. "
   ],
   "metadata": {}
  },
  {
   "cell_type": "code",
   "execution_count": 38,
   "source": [
    "# Number of added friends \n",
    "feature_6 = valid_user_logs \\\n",
    "    .select('userID','page') \\\n",
    "    .where(valid_user_logs.page == 'Add Friend') \\\n",
    "    .groupBy('userID') \\\n",
    "    .count() \\\n",
    "    .withColumnRenamed('count', 'total_num_added_friend') \n",
    "feature_6.describe().show()"
   ],
   "outputs": [
    {
     "output_type": "stream",
     "name": "stdout",
     "text": [
      "+-------+------------------+----------------------+\n",
      "|summary|            userID|total_num_added_friend|\n",
      "+-------+------------------+----------------------+\n",
      "|  count|               206|                   206|\n",
      "|   mean| 66076.91262135922|    20.762135922330096|\n",
      "| stddev|106860.60517425007|    20.646779074405007|\n",
      "|    min|                10|                     1|\n",
      "|    max|                99|                   143|\n",
      "+-------+------------------+----------------------+\n",
      "\n"
     ]
    }
   ],
   "metadata": {}
  },
  {
   "cell_type": "markdown",
   "source": [
    "#### Feature 7: Total listening lenght"
   ],
   "metadata": {}
  },
  {
   "cell_type": "markdown",
   "source": [
    "The seventh feature we will engineer is the total listening length, serving the same purpose as the total number of listened songs, however within a time perspective."
   ],
   "metadata": {}
  },
  {
   "cell_type": "code",
   "execution_count": 39,
   "source": [
    "# Total listening length \n",
    "feature_7 = valid_user_logs \\\n",
    "    .select('userID','length') \\\n",
    "    .groupBy('userID') \\\n",
    "    .sum() \\\n",
    "    .withColumnRenamed('sum(length)', 'total_listening_time')\n",
    "feature_7.describe().show()"
   ],
   "outputs": [
    {
     "output_type": "stream",
     "name": "stdout",
     "text": [
      "+-------+------------------+--------------------+\n",
      "|summary|            userID|total_listening_time|\n",
      "+-------+------------------+--------------------+\n",
      "|  count|               225|                 225|\n",
      "|   mean|65391.013333333336|  252558.32065155543|\n",
      "| stddev|105396.47791907164|   275396.4038847635|\n",
      "|    min|                10|           691.66884|\n",
      "|    max|                99|  1991154.9155799907|\n",
      "+-------+------------------+--------------------+\n",
      "\n"
     ]
    }
   ],
   "metadata": {}
  },
  {
   "cell_type": "markdown",
   "source": [
    "#### Feature 8: Total number of listened songs per session "
   ],
   "metadata": {}
  },
  {
   "cell_type": "markdown",
   "source": [
    "The eight feature we will engineer is the the average number of listened songs per session. The higher the number, the more time the user spend in our services. "
   ],
   "metadata": {}
  },
  {
   "cell_type": "code",
   "execution_count": 40,
   "source": [
    "# Total number of listened songs per session \n",
    "feature_8 = valid_user_logs.where('page == \"NextSong\"') \\\n",
    "    .groupby(['userId', 'sessionId']) \\\n",
    "    .count() \\\n",
    "    .groupby(['userId']) \\\n",
    "    .agg({'count':'avg'}) \\\n",
    "    .withColumnRenamed('avg(count)', 'avg_num_listened_songs')\n",
    "feature_8.describe().show()\n"
   ],
   "outputs": [
    {
     "output_type": "stream",
     "name": "stdout",
     "text": [
      "+-------+------------------+----------------------+\n",
      "|summary|            userId|avg_num_listened_songs|\n",
      "+-------+------------------+----------------------+\n",
      "|  count|               225|                   225|\n",
      "|   mean|65391.013333333336|     70.78971233958933|\n",
      "| stddev|105396.47791907164|      42.6153697543817|\n",
      "|    min|                10|                   3.0|\n",
      "|    max|                99|     286.6666666666667|\n",
      "+-------+------------------+----------------------+\n",
      "\n"
     ]
    }
   ],
   "metadata": {}
  },
  {
   "cell_type": "markdown",
   "source": [
    "#### Feature 9: Total number of listened songs per session "
   ],
   "metadata": {}
  },
  {
   "cell_type": "markdown",
   "source": [
    "The ninth feature we will engineer is the gender, as we would like to inject demographic information about the user in our model as well. This feature will help us identify the differences between genders in terms of chance to churn.\n"
   ],
   "metadata": {}
  },
  {
   "cell_type": "code",
   "execution_count": 41,
   "source": [
    "# Gender\n",
    "feature_9 = valid_user_logs \\\n",
    "    .select(\"userId\", \"gender\") \\\n",
    "    .dropDuplicates() \\\n",
    "    .replace(['M', 'F'], ['0', '1'], 'gender') \\\n",
    "    .select('userId', col('gender').cast('int'))\n",
    "feature_9.describe().show()"
   ],
   "outputs": [
    {
     "output_type": "stream",
     "name": "stdout",
     "text": [
      "+-------+------------------+-------------------+\n",
      "|summary|            userId|             gender|\n",
      "+-------+------------------+-------------------+\n",
      "|  count|               225|                225|\n",
      "|   mean|65391.013333333336| 0.4622222222222222|\n",
      "| stddev|105396.47791907165|0.49968243883744773|\n",
      "|    min|                10|                  0|\n",
      "|    max|                99|                  1|\n",
      "+-------+------------------+-------------------+\n",
      "\n"
     ]
    }
   ],
   "metadata": {}
  },
  {
   "cell_type": "markdown",
   "source": [
    "#### Feature 10: Number of listened artists"
   ],
   "metadata": {}
  },
  {
   "cell_type": "markdown",
   "source": [
    "The tenth feature we will engineer is the number of listened artists. The higher the number, the more interesting and \"unreplacable\" our services are to the user. "
   ],
   "metadata": {}
  },
  {
   "cell_type": "code",
   "execution_count": 42,
   "source": [
    "# Number of listened artists \n",
    "feature_10 = valid_user_logs \\\n",
    "    .filter(valid_user_logs.page==\"NextSong\") \\\n",
    "    .select(\"userId\", \"artist\") \\\n",
    "    .dropDuplicates() \\\n",
    "    .groupby(\"userId\") \\\n",
    "    .count() \\\n",
    "    .withColumnRenamed(\"count\", \"num_of_listened_artists\")\n",
    "feature_10.describe().show()"
   ],
   "outputs": [
    {
     "output_type": "stream",
     "name": "stdout",
     "text": [
      "+-------+------------------+-----------------------+\n",
      "|summary|            userId|num_of_listened_artists|\n",
      "+-------+------------------+-----------------------+\n",
      "|  count|               225|                    225|\n",
      "|   mean|65391.013333333336|      696.3777777777777|\n",
      "| stddev|105396.47791907164|      603.9518698630802|\n",
      "|    min|                10|                      3|\n",
      "|    max|                99|                   3544|\n",
      "+-------+------------------+-----------------------+\n",
      "\n"
     ]
    }
   ],
   "metadata": {}
  },
  {
   "cell_type": "markdown",
   "source": [
    "Finally we need to label the churn"
   ],
   "metadata": {}
  },
  {
   "cell_type": "code",
   "execution_count": 43,
   "source": [
    "# Churn label\n",
    "label = valid_user_logs \\\n",
    "    .select('userId', col('churn').alias('label')) \\\n",
    "    .dropDuplicates()\n",
    "label.describe().show()"
   ],
   "outputs": [
    {
     "output_type": "stream",
     "name": "stdout",
     "text": [
      "+-------+------------------+------------------+\n",
      "|summary|            userId|             label|\n",
      "+-------+------------------+------------------+\n",
      "|  count|               225|               225|\n",
      "|   mean|65391.013333333336|0.2311111111111111|\n",
      "| stddev|105396.47791907164|0.4224832108996327|\n",
      "|    min|                10|                 0|\n",
      "|    max|                99|                 1|\n",
      "+-------+------------------+------------------+\n",
      "\n"
     ]
    }
   ],
   "metadata": {}
  },
  {
   "cell_type": "markdown",
   "source": [
    "Afterwards, we need to construct the whole feature dataframe by merging all the features and the label:"
   ],
   "metadata": {}
  },
  {
   "cell_type": "code",
   "execution_count": 44,
   "source": [
    "# Final feature dataframe \n",
    "features_df = feature_1.join(feature_2,'userID','outer') \\\n",
    "    .join(feature_3,'userID','outer') \\\n",
    "    .join(feature_4,'userID','outer') \\\n",
    "    .join(feature_5,'userID','outer') \\\n",
    "    .join(feature_6,'userID','outer') \\\n",
    "    .join(feature_7,'userID','outer') \\\n",
    "    .join(feature_8,'userID','outer') \\\n",
    "    .join(feature_9,'userID','outer') \\\n",
    "    .join(feature_10,'userID','outer') \\\n",
    "    .join(label,'userID','outer') \\\n",
    "    .drop('userID') \\\n",
    "    .fillna(0)\n",
    "\n",
    "features_df.show(5)"
   ],
   "outputs": [
    {
     "output_type": "stream",
     "name": "stdout",
     "text": [
      "+------------------+------------------------+------------------+--------------------+-----------------------------+----------------------+--------------------+----------------------+------+-----------------------+-----+\n",
      "| registration_time|total_num_listened_songs|total_num_thumb_up|total_num_thumb_down|total_songs_added_to_playlist|total_num_added_friend|total_listening_time|avg_num_listened_songs|gender|num_of_listened_artists|label|\n",
      "+------------------+------------------------+------------------+--------------------+-----------------------------+----------------------+--------------------+----------------------+------+-----------------------+-----+\n",
      "|  55.6436574074074|                     381|                17|                   5|                            7|                     4|   66940.89735000003|    39.285714285714285|     1|                    252|    0|\n",
      "| 70.07462962962963|                     474|                21|                   6|                            8|                     4|   94008.87593999993|                  64.5|     0|                    339|    0|\n",
      "| 71.31688657407408|                      11|                 0|                   0|                            0|                     0|  2089.1131000000005|                   8.0|     0|                      8|    1|\n",
      "|131.55591435185184|                    4825|               171|                  41|                          118|                    74|  1012312.0927899999|    145.67857142857142|     1|                   2232|    0|\n",
      "|19.455844907407407|                    2464|               100|                  21|                           52|                    28|   523275.8428000004|                 211.1|     0|                   1385|    1|\n",
      "+------------------+------------------------+------------------+--------------------+-----------------------------+----------------------+--------------------+----------------------+------+-----------------------+-----+\n",
      "only showing top 5 rows\n",
      "\n"
     ]
    }
   ],
   "metadata": {}
  },
  {
   "cell_type": "markdown",
   "source": [
    "# Modelling <a id='modelling'></a>\n",
    "Our evaluation metric will be the F-1 score. For evaluating th efficacy of our model we need a simple measure of the precision, e.g. whether we need to send a special offer to the right person, and the recall, e.g. whether we miss one user that we should have sent the offer, thus we choose the F1 score. \n",
    "\n",
    "We need to identify the user who are likely to cancel their subscription and provide them some special offers in order to persuade them to keep using our services, however we do not want to waste money and resources  and send way to many offers especially to users that are unlikely to churn. \n"
   ],
   "metadata": {}
  },
  {
   "cell_type": "markdown",
   "source": [
    "Our first step will be to vectorize our features."
   ],
   "metadata": {}
  },
  {
   "cell_type": "code",
   "execution_count": 45,
   "source": [
    "# Vector assembler\n",
    "columns = [\"registration_time\", \"total_num_listened_songs\", \"total_num_thumb_up\", \\\n",
    "          'total_num_thumb_down','total_songs_added_to_playlist','total_num_added_friend','total_listening_time','avg_num_listened_songs', \\\n",
    "        'gender', 'num_of_listened_artists']\n",
    "vector_assembler = VectorAssembler(inputCols=columns, outputCol=\"NumFeatures\")\n",
    "features_df = vector_assembler.transform(features_df)"
   ],
   "outputs": [],
   "metadata": {}
  },
  {
   "cell_type": "markdown",
   "source": [
    "We also need to standardize the features so as to avoid a feature with higher scale dominant the whole model. We will achieve that by extract the mean of each feature and divide it with the standard deviation."
   ],
   "metadata": {}
  },
  {
   "cell_type": "code",
   "execution_count": 46,
   "source": [
    "# Standard scaler\n",
    "st_scaler = StandardScaler(inputCol=\"NumFeatures\", outputCol=\"features\", withStd=True)\n",
    "scaler_model = st_scaler.fit(features_df)\n",
    "features_df = scaler_model.transform(features_df)"
   ],
   "outputs": [],
   "metadata": {}
  },
  {
   "cell_type": "markdown",
   "source": [
    "Next, we need split the data into train, validation, and test sets."
   ],
   "metadata": {}
  },
  {
   "cell_type": "code",
   "execution_count": 47,
   "source": [
    "# Dataset split\n",
    "train, rest = features_df.randomSplit([0.6, 0.4], seed=42)\n",
    "validation, test = rest.randomSplit([0.5, 0.5], seed=42)"
   ],
   "outputs": [],
   "metadata": {}
  },
  {
   "cell_type": "markdown",
   "source": [
    "#### Baseline Model <a id='baseline'></a>\n",
    "\n"
   ],
   "metadata": {}
  },
  {
   "cell_type": "markdown",
   "source": [
    "We evaluate two baseline models according to the churn type, specifically one with all users labelled as churn = 0 and the second one with all users labelled as churn = 0. Afterwards, we calculated the evaluation metrics of the model, e.g. accuracy and F1_score."
   ],
   "metadata": {}
  },
  {
   "cell_type": "code",
   "execution_count": 48,
   "source": [
    "# Baseline model churn=1\n",
    "baseline_users_1 = test.withColumn('prediction', lit(1.0))\n",
    "evaluator_baseline_1 = MulticlassClassificationEvaluator(predictionCol=\"prediction\")\n",
    "print('Evaluation metrics on the test set:')\n",
    "print('Accuracy: {}'.format(evaluator_baseline_1.evaluate(baseline_users_1, {evaluator_baseline_1.metricName: \"accuracy\"})))\n",
    "print('F1_Score:{}'.format(evaluator_baseline_1.evaluate(baseline_users_1, {evaluator_baseline_1.metricName: \"f1\"})))\n"
   ],
   "outputs": [
    {
     "output_type": "stream",
     "name": "stdout",
     "text": [
      "Evaluation metrics on the test set:\n",
      "Accuracy: 0.2647058823529412\n",
      "F1_Score:0.11080711354309165\n"
     ]
    }
   ],
   "metadata": {}
  },
  {
   "cell_type": "code",
   "execution_count": 49,
   "source": [
    "baseline_users_0 = test.withColumn('prediction', lit(0.0))\n",
    "evaluator_baseline_0 = MulticlassClassificationEvaluator(predictionCol=\"prediction\")\n",
    "print('Evaluation metrics on the test set:')\n",
    "print('Accuracy: {}'.format(evaluator_baseline_0.evaluate(baseline_users_0, {evaluator_baseline_0.metricName: \"accuracy\"})))\n",
    "print('F1_Score:{}'.format(evaluator_baseline_0.evaluate(baseline_users_0, {evaluator_baseline_0.metricName: \"f1\"})))"
   ],
   "outputs": [
    {
     "output_type": "stream",
     "name": "stdout",
     "text": [
      "Evaluation metrics on the test set:\n",
      "Accuracy: 0.7352941176470589\n",
      "F1_Score:0.6231306081754736\n"
     ]
    }
   ],
   "metadata": {}
  },
  {
   "cell_type": "markdown",
   "source": [
    "Acording to the evaluation results on the test set, the baseline model of labelling all users with churn = 0 performs quite well reporting accuracy of 73,5% and f1 score of 62,3%.\n"
   ],
   "metadata": {}
  },
  {
   "cell_type": "markdown",
   "source": [
    "Next we evaluate four different models. We need to minimize the chance of overfitting, so we will use cross validation and grid search to fine tune our model. We will evaluate all the four models on validation set, and we will choose the optimal one based on the F1_score on that, Finally, we will train train the best model on the training set again and then we will evaluate it on test set.\n",
    "\n"
   ],
   "metadata": {}
  },
  {
   "cell_type": "markdown",
   "source": [
    "#### Logistic Regression <a id='logistic'></a>"
   ],
   "metadata": {}
  },
  {
   "cell_type": "code",
   "execution_count": 46,
   "source": [
    "# Initialize classifier and evaluator\n",
    "log_regression = LogisticRegression(maxIter=10)\n",
    "\n",
    "f1_evaluator = MulticlassClassificationEvaluator(metricName='f1')\n",
    "\n",
    "# Set the paramGrid\n",
    "paramGrid = ParamGridBuilder() \\\n",
    "    .build()\n",
    "\n",
    "crossval_log_regression = CrossValidator(estimator=log_regression,\n",
    "                          evaluator=f1_evaluator, \n",
    "                          estimatorParamMaps=paramGrid,\n",
    "                          numFolds=3)"
   ],
   "outputs": [],
   "metadata": {}
  },
  {
   "cell_type": "code",
   "execution_count": 47,
   "source": [
    "start = time()\n",
    "cv_model_lr = crossval_log_regression.fit(train)\n",
    "end = time()\n",
    "cv_model_lr.avgMetrics\n",
    "print('The training process took {} seconds'.format(end - start))"
   ],
   "outputs": [
    {
     "output_type": "stream",
     "name": "stdout",
     "text": [
      "The training process took 538.0229902267456 seconds\n"
     ]
    }
   ],
   "metadata": {}
  },
  {
   "cell_type": "code",
   "execution_count": 48,
   "source": [
    "results_log_regression = cv_model_lr.transform(validation)"
   ],
   "outputs": [],
   "metadata": {}
  },
  {
   "cell_type": "code",
   "execution_count": 49,
   "source": [
    "evaluator_log_regression = MulticlassClassificationEvaluator(predictionCol=\"prediction\")\n",
    "print('Logistic Regression Evaluation Metrics:')\n",
    "print('Accuracy: {}'.format(evaluator_log_regression.evaluate(results_log_regression, {evaluator_log_regression.metricName: \"accuracy\"})))\n",
    "print('F1_score:{}'.format(evaluator_log_regression.evaluate(results_log_regression, {evaluator_log_regression.metricName: \"f1\"})))"
   ],
   "outputs": [
    {
     "output_type": "stream",
     "name": "stdout",
     "text": [
      "Logistic Regression Evaluation Metrics:\n",
      "Accuracy: 0.8666666666666667\n",
      "F1_score:0.8047619047619048\n"
     ]
    }
   ],
   "metadata": {}
  },
  {
   "cell_type": "markdown",
   "source": [
    "#### Gradient Boosted Trees <a id='gbt'></a>"
   ],
   "metadata": {}
  },
  {
   "cell_type": "code",
   "execution_count": 50,
   "source": [
    "# Initialize classifier and evaluator\n",
    "gb_trees = GBTClassifier(maxIter=10,seed=42)\n",
    "\n",
    "f1_evaluator = MulticlassClassificationEvaluator(metricName='f1')\n",
    "\n",
    "# Set the paramGrid\n",
    "paramGrid = ParamGridBuilder() \\\n",
    "    .build()\n",
    "\n",
    "crossval_gb_trees = CrossValidator(estimator=gb_trees,\n",
    "                          estimatorParamMaps=paramGrid,\n",
    "                          evaluator=f1_evaluator,\n",
    "                          numFolds=3)\n",
    "\n",
    "start = time()\n",
    "cv_model_gbt = crossval_gb_trees.fit(train)\n",
    "end = time()\n",
    "cv_model_gbt.avgMetrics\n",
    "print('The training process took {} seconds'.format(end - start))\n",
    "\n",
    "results_gb_trees = cv_model_gbt.transform(validation)\n",
    "\n",
    "evaluator_gb_trees = MulticlassClassificationEvaluator(predictionCol=\"prediction\")\n",
    "print('Gradient Boosted Trees Evaluation Metrics:')\n",
    "print('Accuracy: {}'.format(evaluator_gb_trees.evaluate(results_gb_trees, {evaluator_gb_trees.metricName: \"accuracy\"})))\n",
    "print('F1_score:{}'.format(evaluator_gb_trees.evaluate(results_gb_trees, {evaluator_gb_trees.metricName: \"f1\"})))"
   ],
   "outputs": [
    {
     "output_type": "stream",
     "name": "stdout",
     "text": [
      "The training process took 1081.77641248703 seconds\n",
      "Gradient Boosted Trees Evaluation Metrics:\n",
      "Accuracy: 0.8\n",
      "F1_score:0.7703703703703705\n"
     ]
    }
   ],
   "metadata": {}
  },
  {
   "cell_type": "markdown",
   "source": [
    "#### Support Vector Machine <a id='svm'></a>"
   ],
   "metadata": {}
  },
  {
   "cell_type": "code",
   "execution_count": 51,
   "source": [
    "# Initialize classifier and evaluator\n",
    "svm = LinearSVC(maxIter=10)\n",
    "\n",
    "f1_evaluator = MulticlassClassificationEvaluator(metricName='f1')\n",
    "\n",
    "# Set the paramGrid\n",
    "paramGrid = ParamGridBuilder() \\\n",
    "    .build()\n",
    "\n",
    "crossval_svm = CrossValidator(estimator=svm,\n",
    "                          estimatorParamMaps=paramGrid,\n",
    "                          evaluator=f1_evaluator,\n",
    "                          numFolds=3)\n",
    "\n",
    "start = time()\n",
    "cv_model_svm = crossval_svm.fit(train)\n",
    "end = time()\n",
    "cv_model_svm.avgMetrics\n",
    "print('The training process took {} seconds'.format(end - start))\n",
    "\n",
    "results_svm = cv_model_svm.transform(validation)\n",
    "\n",
    "evaluator_svm = MulticlassClassificationEvaluator(predictionCol=\"prediction\")\n",
    "print('Support Vector Machine Evaluation Metrics:')\n",
    "print('Accuracy: {}'.format(evaluator_svm.evaluate(results_svm, {evaluator_svm.metricName: \"accuracy\"})))\n",
    "print('F1_score:{}'.format(evaluator_svm.evaluate(results_svm, {evaluator_svm.metricName: \"f1\"})))"
   ],
   "outputs": [
    {
     "output_type": "stream",
     "name": "stdout",
     "text": [
      "The training process took 725.581131696701 seconds\n",
      "Support Vector Machine Evaluation Metrics:\n",
      "Accuracy: 0.8666666666666667\n",
      "F1_score:0.8047619047619048\n"
     ]
    }
   ],
   "metadata": {}
  },
  {
   "cell_type": "markdown",
   "source": [
    "#### Random Forest <a id='rf'></a>"
   ],
   "metadata": {}
  },
  {
   "cell_type": "code",
   "execution_count": 52,
   "source": [
    "# Initialize classifier and evaluator\n",
    "r_forest = RandomForestClassifier(seed=42)\n",
    "\n",
    "f1_evaluator = MulticlassClassificationEvaluator(metricName='f1')\n",
    "\n",
    "# Set the paramGrid\n",
    "paramGrid = ParamGridBuilder() \\\n",
    "    .build()\n",
    "\n",
    "crossval_r_forest = CrossValidator(estimator=r_forest,\n",
    "                          estimatorParamMaps=paramGrid,\n",
    "                          evaluator=f1_evaluator,\n",
    "                          numFolds=3)\n",
    "\n",
    "start = time()\n",
    "cv_model_r_forest = crossval_r_forest.fit(train)\n",
    "end = time()\n",
    "cv_model_r_forest.avgMetrics\n",
    "print('The training process took {} seconds'.format(end - start))\n",
    "\n",
    "results_r_forest = cv_model_r_forest.transform(validation)\n",
    "\n",
    "evaluator_r_forest = MulticlassClassificationEvaluator(predictionCol=\"prediction\")\n",
    "print('Random Forest Evaluation Metrics:')\n",
    "print('Accuracy: {}'.format(evaluator_r_forest.evaluate(results_r_forest, {evaluator_r_forest.metricName: \"accuracy\"})))\n",
    "print('F1_score:{}'.format(evaluator_r_forest.evaluate(results_r_forest, {evaluator_r_forest.metricName: \"f1\"})))"
   ],
   "outputs": [
    {
     "output_type": "stream",
     "name": "stdout",
     "text": [
      "The training process took 620.2598252296448 seconds\n",
      "Random Forest Evaluation Metrics:\n",
      "Accuracy: 0.8666666666666667\n",
      "F1_score:0.8047619047619048\n"
     ]
    }
   ],
   "metadata": {}
  },
  {
   "cell_type": "markdown",
   "source": [
    "### Models summary: \n",
    "\n",
    "\n",
    "|Model|Accuracy|F1_score|Seconds of training|\n",
    "|------|------|------|------|\n",
    "|Logistic Regression model|0.86|0.80|538.022|\n",
    "|Gradient Boosted Trees model|0.8|0.77|1081.77|\n",
    "|Support Vector Machine model|0.86|0.80|725.58|\n",
    "|Random Forest model|0.86|0.80|620.25|\n",
    "\n",
    "\n",
    "Since there is no difference between the 3 best models, Logistic Regression, Support Vector Machine and Random Forest, in terms of evaluation metrics performance and the ammount of training seconds (even if we care about time resources the difference are minimal), we will choose the 2 models that have the best evaluation results and the smallest ammount of training seconds. \n",
    "\n",
    "Therefore, we choose Logistic Regression and Random Forest models to conduct a grid search to fine tune them and finally select the best one. Moreover, we select the Random Forest to investigate the importance of each feature. \n"
   ],
   "metadata": {}
  },
  {
   "cell_type": "markdown",
   "source": [
    "#### Hyperparams tunning \n",
    "We use a ParamGridBuilder to construct a grid of parameters to search over."
   ],
   "metadata": {}
  },
  {
   "cell_type": "markdown",
   "source": [
    "### Best model <a id='best_model'></a>"
   ],
   "metadata": {}
  },
  {
   "cell_type": "markdown",
   "source": [
    "### Logistic Regression "
   ],
   "metadata": {}
  },
  {
   "cell_type": "code",
   "execution_count": 53,
   "source": [
    "lr = LogisticRegression(maxIter=10)\n",
    "\n",
    "# build paramGrid\n",
    "paramGrid = ParamGridBuilder()\\\n",
    "    .addGrid(lr.regParam, [0.1, 0.01]) \\\n",
    "    .addGrid(lr.fitIntercept, [False, True])\\\n",
    "    .addGrid(lr.elasticNetParam, [0.0, 0.5, 1.0])\\\n",
    "    .build()\n",
    "\n",
    "f1_evaluator = MulticlassClassificationEvaluator(metricName='f1')\n",
    "\n",
    "crossval_lr = CrossValidator(estimator=lr,\n",
    "                          estimatorParamMaps=paramGrid,\n",
    "                          evaluator=f1_evaluator,\n",
    "                          numFolds=3)\n",
    "\n",
    "cv_model_lr = crossval_lr.fit(train)\n"
   ],
   "outputs": [],
   "metadata": {}
  },
  {
   "cell_type": "code",
   "execution_count": 54,
   "source": [
    "list(zip(cv_model_lr.avgMetrics, paramGrid))"
   ],
   "outputs": [
    {
     "output_type": "execute_result",
     "data": {
      "text/plain": [
       "[(0.6794703442832867,\n",
       "  {Param(parent='LogisticRegression_68b82afc0f0c', name='regParam', doc='regularization parameter (>= 0).'): 0.1,\n",
       "   Param(parent='LogisticRegression_68b82afc0f0c', name='fitIntercept', doc='whether to fit an intercept term.'): False,\n",
       "   Param(parent='LogisticRegression_68b82afc0f0c', name='elasticNetParam', doc='the ElasticNet mixing parameter, in range [0, 1]. For alpha = 0, the penalty is an L2 penalty. For alpha = 1, it is an L1 penalty.'): 0.0}),\n",
       " (0.6831235564368997,\n",
       "  {Param(parent='LogisticRegression_68b82afc0f0c', name='regParam', doc='regularization parameter (>= 0).'): 0.1,\n",
       "   Param(parent='LogisticRegression_68b82afc0f0c', name='fitIntercept', doc='whether to fit an intercept term.'): False,\n",
       "   Param(parent='LogisticRegression_68b82afc0f0c', name='elasticNetParam', doc='the ElasticNet mixing parameter, in range [0, 1]. For alpha = 0, the penalty is an L2 penalty. For alpha = 1, it is an L1 penalty.'): 0.5}),\n",
       " (0.6831235564368997,\n",
       "  {Param(parent='LogisticRegression_68b82afc0f0c', name='regParam', doc='regularization parameter (>= 0).'): 0.1,\n",
       "   Param(parent='LogisticRegression_68b82afc0f0c', name='fitIntercept', doc='whether to fit an intercept term.'): False,\n",
       "   Param(parent='LogisticRegression_68b82afc0f0c', name='elasticNetParam', doc='the ElasticNet mixing parameter, in range [0, 1]. For alpha = 0, the penalty is an L2 penalty. For alpha = 1, it is an L1 penalty.'): 1.0}),\n",
       " (0.6930439858061115,\n",
       "  {Param(parent='LogisticRegression_68b82afc0f0c', name='regParam', doc='regularization parameter (>= 0).'): 0.1,\n",
       "   Param(parent='LogisticRegression_68b82afc0f0c', name='fitIntercept', doc='whether to fit an intercept term.'): True,\n",
       "   Param(parent='LogisticRegression_68b82afc0f0c', name='elasticNetParam', doc='the ElasticNet mixing parameter, in range [0, 1]. For alpha = 0, the penalty is an L2 penalty. For alpha = 1, it is an L1 penalty.'): 0.0}),\n",
       " (0.6831235564368997,\n",
       "  {Param(parent='LogisticRegression_68b82afc0f0c', name='regParam', doc='regularization parameter (>= 0).'): 0.1,\n",
       "   Param(parent='LogisticRegression_68b82afc0f0c', name='fitIntercept', doc='whether to fit an intercept term.'): True,\n",
       "   Param(parent='LogisticRegression_68b82afc0f0c', name='elasticNetParam', doc='the ElasticNet mixing parameter, in range [0, 1]. For alpha = 0, the penalty is an L2 penalty. For alpha = 1, it is an L1 penalty.'): 0.5}),\n",
       " (0.6831235564368997,\n",
       "  {Param(parent='LogisticRegression_68b82afc0f0c', name='regParam', doc='regularization parameter (>= 0).'): 0.1,\n",
       "   Param(parent='LogisticRegression_68b82afc0f0c', name='fitIntercept', doc='whether to fit an intercept term.'): True,\n",
       "   Param(parent='LogisticRegression_68b82afc0f0c', name='elasticNetParam', doc='the ElasticNet mixing parameter, in range [0, 1]. For alpha = 0, the penalty is an L2 penalty. For alpha = 1, it is an L1 penalty.'): 1.0}),\n",
       " (0.696178782044356,\n",
       "  {Param(parent='LogisticRegression_68b82afc0f0c', name='regParam', doc='regularization parameter (>= 0).'): 0.01,\n",
       "   Param(parent='LogisticRegression_68b82afc0f0c', name='fitIntercept', doc='whether to fit an intercept term.'): False,\n",
       "   Param(parent='LogisticRegression_68b82afc0f0c', name='elasticNetParam', doc='the ElasticNet mixing parameter, in range [0, 1]. For alpha = 0, the penalty is an L2 penalty. For alpha = 1, it is an L1 penalty.'): 0.0}),\n",
       " (0.696178782044356,\n",
       "  {Param(parent='LogisticRegression_68b82afc0f0c', name='regParam', doc='regularization parameter (>= 0).'): 0.01,\n",
       "   Param(parent='LogisticRegression_68b82afc0f0c', name='fitIntercept', doc='whether to fit an intercept term.'): False,\n",
       "   Param(parent='LogisticRegression_68b82afc0f0c', name='elasticNetParam', doc='the ElasticNet mixing parameter, in range [0, 1]. For alpha = 0, the penalty is an L2 penalty. For alpha = 1, it is an L1 penalty.'): 0.5}),\n",
       " (0.6794703442832867,\n",
       "  {Param(parent='LogisticRegression_68b82afc0f0c', name='regParam', doc='regularization parameter (>= 0).'): 0.01,\n",
       "   Param(parent='LogisticRegression_68b82afc0f0c', name='fitIntercept', doc='whether to fit an intercept term.'): False,\n",
       "   Param(parent='LogisticRegression_68b82afc0f0c', name='elasticNetParam', doc='the ElasticNet mixing parameter, in range [0, 1]. For alpha = 0, the penalty is an L2 penalty. For alpha = 1, it is an L1 penalty.'): 1.0}),\n",
       " (0.7719490961728525,\n",
       "  {Param(parent='LogisticRegression_68b82afc0f0c', name='regParam', doc='regularization parameter (>= 0).'): 0.01,\n",
       "   Param(parent='LogisticRegression_68b82afc0f0c', name='fitIntercept', doc='whether to fit an intercept term.'): True,\n",
       "   Param(parent='LogisticRegression_68b82afc0f0c', name='elasticNetParam', doc='the ElasticNet mixing parameter, in range [0, 1]. For alpha = 0, the penalty is an L2 penalty. For alpha = 1, it is an L1 penalty.'): 0.0}),\n",
       " (0.6924396119577167,\n",
       "  {Param(parent='LogisticRegression_68b82afc0f0c', name='regParam', doc='regularization parameter (>= 0).'): 0.01,\n",
       "   Param(parent='LogisticRegression_68b82afc0f0c', name='fitIntercept', doc='whether to fit an intercept term.'): True,\n",
       "   Param(parent='LogisticRegression_68b82afc0f0c', name='elasticNetParam', doc='the ElasticNet mixing parameter, in range [0, 1]. For alpha = 0, the penalty is an L2 penalty. For alpha = 1, it is an L1 penalty.'): 0.5}),\n",
       " (0.7028598549360993,\n",
       "  {Param(parent='LogisticRegression_68b82afc0f0c', name='regParam', doc='regularization parameter (>= 0).'): 0.01,\n",
       "   Param(parent='LogisticRegression_68b82afc0f0c', name='fitIntercept', doc='whether to fit an intercept term.'): True,\n",
       "   Param(parent='LogisticRegression_68b82afc0f0c', name='elasticNetParam', doc='the ElasticNet mixing parameter, in range [0, 1]. For alpha = 0, the penalty is an L2 penalty. For alpha = 1, it is an L1 penalty.'): 1.0})]"
      ]
     },
     "metadata": {},
     "execution_count": 54
    }
   ],
   "metadata": {}
  },
  {
   "cell_type": "code",
   "execution_count": 55,
   "source": [
    "perf = pd.DataFrame(paramGrid, index=cv_model_lr.avgMetrics).reset_index()\n",
    "perf.columns=['F1_score', 'regParam', 'fitIntercept', 'elasticNetParam']\n",
    "perf"
   ],
   "outputs": [
    {
     "output_type": "execute_result",
     "data": {
      "text/plain": [
       "    F1_score  regParam  fitIntercept  elasticNetParam\n",
       "0   0.679470      0.10         False              0.0\n",
       "1   0.683124      0.10         False              0.5\n",
       "2   0.683124      0.10         False              1.0\n",
       "3   0.693044      0.10          True              0.0\n",
       "4   0.683124      0.10          True              0.5\n",
       "5   0.683124      0.10          True              1.0\n",
       "6   0.696179      0.01         False              0.0\n",
       "7   0.696179      0.01         False              0.5\n",
       "8   0.679470      0.01         False              1.0\n",
       "9   0.771949      0.01          True              0.0\n",
       "10  0.692440      0.01          True              0.5\n",
       "11  0.702860      0.01          True              1.0"
      ],
      "text/html": [
       "<div>\n",
       "<style scoped>\n",
       "    .dataframe tbody tr th:only-of-type {\n",
       "        vertical-align: middle;\n",
       "    }\n",
       "\n",
       "    .dataframe tbody tr th {\n",
       "        vertical-align: top;\n",
       "    }\n",
       "\n",
       "    .dataframe thead th {\n",
       "        text-align: right;\n",
       "    }\n",
       "</style>\n",
       "<table border=\"1\" class=\"dataframe\">\n",
       "  <thead>\n",
       "    <tr style=\"text-align: right;\">\n",
       "      <th></th>\n",
       "      <th>F1_score</th>\n",
       "      <th>regParam</th>\n",
       "      <th>fitIntercept</th>\n",
       "      <th>elasticNetParam</th>\n",
       "    </tr>\n",
       "  </thead>\n",
       "  <tbody>\n",
       "    <tr>\n",
       "      <th>0</th>\n",
       "      <td>0.679470</td>\n",
       "      <td>0.10</td>\n",
       "      <td>False</td>\n",
       "      <td>0.0</td>\n",
       "    </tr>\n",
       "    <tr>\n",
       "      <th>1</th>\n",
       "      <td>0.683124</td>\n",
       "      <td>0.10</td>\n",
       "      <td>False</td>\n",
       "      <td>0.5</td>\n",
       "    </tr>\n",
       "    <tr>\n",
       "      <th>2</th>\n",
       "      <td>0.683124</td>\n",
       "      <td>0.10</td>\n",
       "      <td>False</td>\n",
       "      <td>1.0</td>\n",
       "    </tr>\n",
       "    <tr>\n",
       "      <th>3</th>\n",
       "      <td>0.693044</td>\n",
       "      <td>0.10</td>\n",
       "      <td>True</td>\n",
       "      <td>0.0</td>\n",
       "    </tr>\n",
       "    <tr>\n",
       "      <th>4</th>\n",
       "      <td>0.683124</td>\n",
       "      <td>0.10</td>\n",
       "      <td>True</td>\n",
       "      <td>0.5</td>\n",
       "    </tr>\n",
       "    <tr>\n",
       "      <th>5</th>\n",
       "      <td>0.683124</td>\n",
       "      <td>0.10</td>\n",
       "      <td>True</td>\n",
       "      <td>1.0</td>\n",
       "    </tr>\n",
       "    <tr>\n",
       "      <th>6</th>\n",
       "      <td>0.696179</td>\n",
       "      <td>0.01</td>\n",
       "      <td>False</td>\n",
       "      <td>0.0</td>\n",
       "    </tr>\n",
       "    <tr>\n",
       "      <th>7</th>\n",
       "      <td>0.696179</td>\n",
       "      <td>0.01</td>\n",
       "      <td>False</td>\n",
       "      <td>0.5</td>\n",
       "    </tr>\n",
       "    <tr>\n",
       "      <th>8</th>\n",
       "      <td>0.679470</td>\n",
       "      <td>0.01</td>\n",
       "      <td>False</td>\n",
       "      <td>1.0</td>\n",
       "    </tr>\n",
       "    <tr>\n",
       "      <th>9</th>\n",
       "      <td>0.771949</td>\n",
       "      <td>0.01</td>\n",
       "      <td>True</td>\n",
       "      <td>0.0</td>\n",
       "    </tr>\n",
       "    <tr>\n",
       "      <th>10</th>\n",
       "      <td>0.692440</td>\n",
       "      <td>0.01</td>\n",
       "      <td>True</td>\n",
       "      <td>0.5</td>\n",
       "    </tr>\n",
       "    <tr>\n",
       "      <th>11</th>\n",
       "      <td>0.702860</td>\n",
       "      <td>0.01</td>\n",
       "      <td>True</td>\n",
       "      <td>1.0</td>\n",
       "    </tr>\n",
       "  </tbody>\n",
       "</table>\n",
       "</div>"
      ]
     },
     "metadata": {},
     "execution_count": 55
    }
   ],
   "metadata": {}
  },
  {
   "cell_type": "code",
   "execution_count": 56,
   "source": [
    "lr_best = LogisticRegression(maxIter=10, regParam=0.01,fitIntercept= True,elasticNetParam=0.0)\n",
    "lr_best_model = lr_best.fit(train)\n",
    "final_results = lr_best_model.transform(test)\n",
    "evaluator_lr = MulticlassClassificationEvaluator(predictionCol=\"prediction\")\n",
    "print('Evaluation metrics on test set:')\n",
    "print('Accuracy: {}'.format(evaluator_lr.evaluate(final_results, {evaluator_lr.metricName: \"accuracy\"})))\n",
    "print('F1_core:{}'.format(evaluator_lr.evaluate(final_results, {evaluator_lr.metricName: \"f1\"})))\n",
    "\n",
    "\n"
   ],
   "outputs": [
    {
     "output_type": "stream",
     "name": "stdout",
     "text": [
      "Evaluation metrics on test set:\n",
      "Accuracy: 0.7647058823529411\n",
      "F1_core:0.7184873949579832\n"
     ]
    }
   ],
   "metadata": {}
  },
  {
   "cell_type": "markdown",
   "source": [
    "### Random Forest"
   ],
   "metadata": {}
  },
  {
   "cell_type": "code",
   "execution_count": 50,
   "source": [
    "r_forest = RandomForestClassifier()\n",
    "\n",
    "# build paramGrid\n",
    "\n",
    "paramGrid = ParamGridBuilder() \\\n",
    "    .addGrid(r_forest.numTrees, [int(x) for x in np.linspace(start = 10, stop = 50, num = 3)]) \\\n",
    "    .addGrid(r_forest.maxDepth, [int(x) for x in np.linspace(start = 5, stop = 25, num = 3)]) \\\n",
    "    .build()\n",
    "\n",
    "f1_evaluator = MulticlassClassificationEvaluator(metricName='f1')\n",
    "\n",
    "crossval_r_forest = CrossValidator(estimator=r_forest,\n",
    "                          estimatorParamMaps=paramGrid,\n",
    "                          evaluator=f1_evaluator,\n",
    "                          numFolds=3)\n",
    "\n",
    "cv_model_r_forest = crossval_r_forest.fit(train)\n",
    "list(zip(cv_model_r_forest.avgMetrics, paramGrid))\n"
   ],
   "outputs": [
    {
     "output_type": "execute_result",
     "data": {
      "text/plain": [
       "[(0.7797835365548991,\n",
       "  {Param(parent='RandomForestClassifier_540437513958', name='numTrees', doc='Number of trees to train (>= 1).'): 10,\n",
       "   Param(parent='RandomForestClassifier_540437513958', name='maxDepth', doc='Maximum depth of the tree. (>= 0) E.g., depth 0 means 1 leaf node; depth 1 means 1 internal node + 2 leaf nodes.'): 5}),\n",
       " (0.7744194380535456,\n",
       "  {Param(parent='RandomForestClassifier_540437513958', name='numTrees', doc='Number of trees to train (>= 1).'): 10,\n",
       "   Param(parent='RandomForestClassifier_540437513958', name='maxDepth', doc='Maximum depth of the tree. (>= 0) E.g., depth 0 means 1 leaf node; depth 1 means 1 internal node + 2 leaf nodes.'): 15}),\n",
       " (0.7744194380535456,\n",
       "  {Param(parent='RandomForestClassifier_540437513958', name='numTrees', doc='Number of trees to train (>= 1).'): 10,\n",
       "   Param(parent='RandomForestClassifier_540437513958', name='maxDepth', doc='Maximum depth of the tree. (>= 0) E.g., depth 0 means 1 leaf node; depth 1 means 1 internal node + 2 leaf nodes.'): 25}),\n",
       " (0.7987084487084488,\n",
       "  {Param(parent='RandomForestClassifier_540437513958', name='numTrees', doc='Number of trees to train (>= 1).'): 30,\n",
       "   Param(parent='RandomForestClassifier_540437513958', name='maxDepth', doc='Maximum depth of the tree. (>= 0) E.g., depth 0 means 1 leaf node; depth 1 means 1 internal node + 2 leaf nodes.'): 5}),\n",
       " (0.7781390140572488,\n",
       "  {Param(parent='RandomForestClassifier_540437513958', name='numTrees', doc='Number of trees to train (>= 1).'): 30,\n",
       "   Param(parent='RandomForestClassifier_540437513958', name='maxDepth', doc='Maximum depth of the tree. (>= 0) E.g., depth 0 means 1 leaf node; depth 1 means 1 internal node + 2 leaf nodes.'): 15}),\n",
       " (0.7781390140572488,\n",
       "  {Param(parent='RandomForestClassifier_540437513958', name='numTrees', doc='Number of trees to train (>= 1).'): 30,\n",
       "   Param(parent='RandomForestClassifier_540437513958', name='maxDepth', doc='Maximum depth of the tree. (>= 0) E.g., depth 0 means 1 leaf node; depth 1 means 1 internal node + 2 leaf nodes.'): 25}),\n",
       " (0.7807313647168719,\n",
       "  {Param(parent='RandomForestClassifier_540437513958', name='numTrees', doc='Number of trees to train (>= 1).'): 50,\n",
       "   Param(parent='RandomForestClassifier_540437513958', name='maxDepth', doc='Maximum depth of the tree. (>= 0) E.g., depth 0 means 1 leaf node; depth 1 means 1 internal node + 2 leaf nodes.'): 5}),\n",
       " (0.7724651274651275,\n",
       "  {Param(parent='RandomForestClassifier_540437513958', name='numTrees', doc='Number of trees to train (>= 1).'): 50,\n",
       "   Param(parent='RandomForestClassifier_540437513958', name='maxDepth', doc='Maximum depth of the tree. (>= 0) E.g., depth 0 means 1 leaf node; depth 1 means 1 internal node + 2 leaf nodes.'): 15}),\n",
       " (0.7724651274651275,\n",
       "  {Param(parent='RandomForestClassifier_540437513958', name='numTrees', doc='Number of trees to train (>= 1).'): 50,\n",
       "   Param(parent='RandomForestClassifier_540437513958', name='maxDepth', doc='Maximum depth of the tree. (>= 0) E.g., depth 0 means 1 leaf node; depth 1 means 1 internal node + 2 leaf nodes.'): 25})]"
      ]
     },
     "metadata": {},
     "execution_count": 50
    }
   ],
   "metadata": {}
  },
  {
   "cell_type": "code",
   "execution_count": 51,
   "source": [
    "perf = pd.DataFrame(paramGrid, index=cv_model_r_forest.avgMetrics).reset_index()\n",
    "perf.columns=['F1_score','numTrees', 'maxDepth']\n",
    "perf"
   ],
   "outputs": [
    {
     "output_type": "execute_result",
     "data": {
      "text/plain": [
       "   F1_score  numTrees  maxDepth\n",
       "0  0.779784        10         5\n",
       "1  0.774419        10        15\n",
       "2  0.774419        10        25\n",
       "3  0.798708        30         5\n",
       "4  0.778139        30        15\n",
       "5  0.778139        30        25\n",
       "6  0.780731        50         5\n",
       "7  0.772465        50        15\n",
       "8  0.772465        50        25"
      ],
      "text/html": [
       "<div>\n",
       "<style scoped>\n",
       "    .dataframe tbody tr th:only-of-type {\n",
       "        vertical-align: middle;\n",
       "    }\n",
       "\n",
       "    .dataframe tbody tr th {\n",
       "        vertical-align: top;\n",
       "    }\n",
       "\n",
       "    .dataframe thead th {\n",
       "        text-align: right;\n",
       "    }\n",
       "</style>\n",
       "<table border=\"1\" class=\"dataframe\">\n",
       "  <thead>\n",
       "    <tr style=\"text-align: right;\">\n",
       "      <th></th>\n",
       "      <th>F1_score</th>\n",
       "      <th>numTrees</th>\n",
       "      <th>maxDepth</th>\n",
       "    </tr>\n",
       "  </thead>\n",
       "  <tbody>\n",
       "    <tr>\n",
       "      <th>0</th>\n",
       "      <td>0.779784</td>\n",
       "      <td>10</td>\n",
       "      <td>5</td>\n",
       "    </tr>\n",
       "    <tr>\n",
       "      <th>1</th>\n",
       "      <td>0.774419</td>\n",
       "      <td>10</td>\n",
       "      <td>15</td>\n",
       "    </tr>\n",
       "    <tr>\n",
       "      <th>2</th>\n",
       "      <td>0.774419</td>\n",
       "      <td>10</td>\n",
       "      <td>25</td>\n",
       "    </tr>\n",
       "    <tr>\n",
       "      <th>3</th>\n",
       "      <td>0.798708</td>\n",
       "      <td>30</td>\n",
       "      <td>5</td>\n",
       "    </tr>\n",
       "    <tr>\n",
       "      <th>4</th>\n",
       "      <td>0.778139</td>\n",
       "      <td>30</td>\n",
       "      <td>15</td>\n",
       "    </tr>\n",
       "    <tr>\n",
       "      <th>5</th>\n",
       "      <td>0.778139</td>\n",
       "      <td>30</td>\n",
       "      <td>25</td>\n",
       "    </tr>\n",
       "    <tr>\n",
       "      <th>6</th>\n",
       "      <td>0.780731</td>\n",
       "      <td>50</td>\n",
       "      <td>5</td>\n",
       "    </tr>\n",
       "    <tr>\n",
       "      <th>7</th>\n",
       "      <td>0.772465</td>\n",
       "      <td>50</td>\n",
       "      <td>15</td>\n",
       "    </tr>\n",
       "    <tr>\n",
       "      <th>8</th>\n",
       "      <td>0.772465</td>\n",
       "      <td>50</td>\n",
       "      <td>25</td>\n",
       "    </tr>\n",
       "  </tbody>\n",
       "</table>\n",
       "</div>"
      ]
     },
     "metadata": {},
     "execution_count": 51
    }
   ],
   "metadata": {}
  },
  {
   "cell_type": "code",
   "execution_count": 57,
   "source": [
    "r_forest_best = RandomForestClassifier(numTrees=30,maxDepth=5 )\n",
    "r_forest_best_model = r_forest_best.fit(train)\n",
    "final_results = r_forest_best_model.transform(test)\n",
    "evaluator_r_forest = MulticlassClassificationEvaluator(predictionCol=\"prediction\")\n",
    "print('Evaluation metrics on test set:')\n",
    "print('Accuracy: {}'.format(evaluator_r_forest.evaluate(final_results, {evaluator_r_forest.metricName: \"accuracy\"})))\n",
    "print('F1_core:{}'.format(evaluator_r_forest.evaluate(final_results, {evaluator_r_forest.metricName: \"f1\"})))\n",
    "\n"
   ],
   "outputs": [
    {
     "output_type": "stream",
     "name": "stdout",
     "text": [
      "Evaluation metrics on test set:\n",
      "Accuracy: 0.7794117647058824\n",
      "F1_core:0.7600045496767834\n"
     ]
    }
   ],
   "metadata": {}
  },
  {
   "cell_type": "code",
   "execution_count": 58,
   "source": [
    "features_importance = r_forest_best_model.featureImportances.values\n",
    "\n",
    "columns = [\"registration_time\", \"total_num_listened_songs\", \"total_num_thumb_up\", \\\n",
    "          'total_num_thumb_down','total_songs_added_to_playlist','total_num_added_friend','total_listening_time','avg_num_listened_songs', \\\n",
    "        'gender', 'num_of_listened_artists']\n",
    "y_pos = np.arange(len(columns))\n",
    " \n",
    "plt.barh(y_pos, features_importance, align='center', color=\"grey\")\n",
    "plt.yticks(y_pos, columns)\n",
    "plt.xlabel('Importance Score')\n",
    "plt.title('Random Forest Feature Importances');"
   ],
   "outputs": [
    {
     "output_type": "display_data",
     "data": {
      "text/plain": [
       "<matplotlib.figure.Figure at 0x7fc249953198>"
      ],
      "image/png": "[encoded data removed]"
     },
     "metadata": {
      "needs_background": "light"
     }
    }
   ],
   "metadata": {}
  },
  {
   "cell_type": "markdown",
   "source": [
    "Choosing the Random Forest model, give us the opportunity to use the feature importance function of the machine learning model. It is clear in the barplot above, that registration time into our service actually plays the most crucial role. The fact that the canceller had shorter registration time into our services indicates the bias of the above mentioned feature, and we might need to reconsider our model or reduce the bias with the help of some sort of transofrmation.\n",
    "Furthermore, the total number of added friends, the total number of thumbs down, and the average number of listened songs also appear to be important features. For Instance, we might conclude that our song recommendations egine might not perform well and recommend the wrong songs to the user if the number of thumbs down is too high or we might conclude that a user loves our services and the songs provided in it, if the number of listened songs is high. \n",
    "\n",
    "Finally, the gender of the user plays almost no important role in our model. "
   ],
   "metadata": {}
  },
  {
   "cell_type": "markdown",
   "source": [
    "# Conclusion <a id='conclusion'></a>\n",
    "\n"
   ],
   "metadata": {}
  },
  {
   "cell_type": "markdown",
   "source": [
    "### Summary"
   ],
   "metadata": {}
  },
  {
   "cell_type": "markdown",
   "source": [
    "In this project, we built a machine learning model trcapable to predict wheter a user will churn. We performed multiple preprocess steps, namely we removed rows with missing userId, we converted time columns containing timestamp data into a more human readable format, we converted the gender column itno a binary numeric column. We performed an extensive Exploratory Data Analysis, we visualized coll plots that describe valuable statistics of the users, and we engineered 10 features for our machine learning model.\n",
    "Next, we chose 4 different machine leatning models for our analysis: Logistic Regression, Gradient Boosted Trees, Support Vector Machine, and Random Forest to compare and we chose the Logistic Regression and Random Forest, as the most promising models based on the evaluation metrics and the seconds needed for training. Furthermore, we utilized a cross validation and Gridsearch to fine tune both models and based on the evaluation results on the test set we chose the Random Forest as our final model. We achieved about 78% accuracy, and 76% F1 score, which is about 16% improvement compare to our baseline model e.g. sending everyone an offer."
   ],
   "metadata": {}
  },
  {
   "cell_type": "markdown",
   "source": [
    "### Reflection\n"
   ],
   "metadata": {}
  },
  {
   "cell_type": "markdown",
   "source": [
    "In this project we aim to reveal the Spark environment as an analysis tool for large volume of data that a personal laptop/machine would be probably uncapable of anylizing. Predicting the potential cancellers of services before the actual churn, gives companies the oportunity to send targeted messages and offers and minimize the cost of saving existing customers. Still, engineering appropriate and informative features from the available data is the number one interesting challenge of the project. However, engineer informative features is higly important in builting a good predictive model, and unfortunatelly is a costly and time consuming effort. Exploratory and explanatory data analysis plays an important role in feature engineering as well.\n",
    "\n"
   ],
   "metadata": {}
  },
  {
   "cell_type": "markdown",
   "source": [
    "### Improvement\n",
    "\n"
   ],
   "metadata": {}
  },
  {
   "cell_type": "markdown",
   "source": [
    "Adding extra domain knowledge and expertise could significantly improve the feature engineering of this project. As the user database grow, more data will be available to analyze with tools such as Spark and the results would be improved importantly. Currently, we utilized for our analusis 450 records of unique users of our services, and only the 60% of them were used for training our machine learning model. However, the model could go though a great improvement if the training sample increase, and the expected model performance will increase as well."
   ],
   "metadata": {}
  },
  {
   "cell_type": "code",
   "execution_count": null,
   "source": [],
   "outputs": [],
   "metadata": {}
  }
 ],
 "metadata": {
  "kernelspec": {
   "display_name": "Python 3",
   "language": "python",
   "name": "python3"
  },
  "language_info": {
   "codemirror_mode": {
    "name": "ipython",
    "version": 3
   },
   "file_extension": ".py",
   "mimetype": "text/x-python",
   "name": "python",
   "nbconvert_exporter": "python",
   "pygments_lexer": "ipython3",
   "version": "3.6.3"
  }
 },
 "nbformat": 4,
 "nbformat_minor": 2
}